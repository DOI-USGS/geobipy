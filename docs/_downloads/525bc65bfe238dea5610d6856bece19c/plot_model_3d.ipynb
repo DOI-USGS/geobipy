{
  "cells": [
    {
      "cell_type": "code",
      "execution_count": null,
      "metadata": {
        "collapsed": false
      },
      "outputs": [],
      "source": [
        "%matplotlib inline"
      ]
    },
    {
      "cell_type": "markdown",
      "metadata": {},
      "source": [
        "\n# 3D Rectilinear Model\nThis 3D rectilinear model defines a grid with straight cell boundaries.\n"
      ]
    },
    {
      "cell_type": "code",
      "execution_count": null,
      "metadata": {
        "collapsed": false
      },
      "outputs": [],
      "source": [
        "from geobipy import StatArray\nfrom geobipy import RectilinearMesh3D\nfrom geobipy import Model\nimport matplotlib.pyplot as plt\nimport numpy as np\nimport h5py\n\n\n\"\"\"\n3D Rectilinear Mesh\n-------------------\nThis 3D rectilinear mesh defines a grid with straight cell boundaries.\n\n\"\"\""
      ]
    },
    {
      "cell_type": "code",
      "execution_count": null,
      "metadata": {
        "collapsed": false
      },
      "outputs": [],
      "source": [
        "from geobipy import StatArray\nfrom geobipy import RectilinearMesh3D\nfrom geobipy import Model\nimport matplotlib.pyplot as plt\nimport numpy as np\nimport h5py"
      ]
    },
    {
      "cell_type": "markdown",
      "metadata": {},
      "source": [
        "Specify some cell centres in x and y\n\n"
      ]
    },
    {
      "cell_type": "code",
      "execution_count": null,
      "metadata": {
        "collapsed": false
      },
      "outputs": [],
      "source": [
        "x = StatArray(np.arange(10.0), 'Easting', 'm')\ny = StatArray(np.arange(15.0), 'Northing', 'm')\nz = StatArray(np.arange(20.0), 'Depth', 'm')\n\nmesh = RectilinearMesh3D(x_edges=x, y_edges=y, z_edges=z)\n\nxx, yy = np.meshgrid(mesh.y.centres, mesh.x.centres)\nvalues = StatArray(np.sin(np.sqrt(xx ** 2.0 + yy ** 2.0)), \"Height\")\nvalues = np.repeat(values[:, :, None], mesh.z.nCells, 2)\n\nmodel = Model(mesh=mesh, values=values)\n\nmodel1 = model[:5, :5, :5]\nmodel2 = model[:, :, 5]\nmodel3 = model[:, 5, :]\nmodel4 = model[5, :, :]\n\nplt.figure()\nplt.subplot(231)\nmodel2.pcolor()\nplt.subplot(232)\nmodel3.pcolor()\nplt.subplot(233)\nmodel4.pcolor()"
      ]
    },
    {
      "cell_type": "code",
      "execution_count": null,
      "metadata": {
        "collapsed": false
      },
      "outputs": [],
      "source": [
        "model2 = model[:, 5, 5]\nmodel3 = model[5, :, 5]\nmodel4 = model[5, 5, :]\n\nplt.subplot(234)\nmodel2.pcolor()\nplt.subplot(235)\nmodel3.pcolor()\nplt.subplot(236)\nmodel4.pcolor()"
      ]
    },
    {
      "cell_type": "code",
      "execution_count": null,
      "metadata": {
        "collapsed": false
      },
      "outputs": [],
      "source": [
        "with h5py.File('model3d.h5', 'w') as f:\n    model.createHdf(f, 'test')\n    model.writeHdf(f, 'test')\n\nwith h5py.File('model3d.h5', 'r') as f:\n    model2 = Model.fromHdf(f['test'])\n\nmodel.pyvista_mesh().save('model3d.vtk')\n\n\nxx, yy = np.meshgrid(mesh.y.centres, mesh.x.centres)\nz_re = StatArray(np.sin(np.sqrt(xx ** 2.0 + yy ** 2.0)), \"z_re\")\nmesh = RectilinearMesh3D(x_edges=x, y_edges=y, z_edges=z, z_relative_to=z_re)\nmodel = Model(mesh=mesh, values=values)\n\nmodel1 = model[:5, :5, :5]\nmodel2 = model[:, :, 5]\nmodel3 = model[:, 5, :]\nmodel4 = model[5, :, :]\n\nplt.figure()\nplt.subplot(231)\nmodel2.pcolor()\nplt.subplot(232)\nmodel3.pcolor()\nplt.subplot(233)\nmodel4.pcolor()"
      ]
    },
    {
      "cell_type": "markdown",
      "metadata": {},
      "source": [
        "We can plot the mesh in 3D!\n\n"
      ]
    },
    {
      "cell_type": "code",
      "execution_count": null,
      "metadata": {
        "collapsed": false
      },
      "outputs": [],
      "source": [
        "pv = model.pyvista_plotter()"
      ]
    },
    {
      "cell_type": "markdown",
      "metadata": {},
      "source": [
        "We can plot the mesh in 3D!\n\n"
      ]
    },
    {
      "cell_type": "code",
      "execution_count": null,
      "metadata": {
        "collapsed": false
      },
      "outputs": [],
      "source": [
        "model.pyvista_mesh().save('model3d_re1.vtk')\n\n\nx_re = StatArray(np.sin(np.repeat(mesh.y.centres[:, None], mesh.z.nCells, 1)), \"x_re\")\nmesh = RectilinearMesh3D(x_edges=x, x_relative_to=x_re, y_edges=y, z_edges=z, z_relative_to=z_re)\nmodel = Model(mesh=mesh, values=values)\n\nmodel1 = model[:5, :5, :5]\nmodel2 = model[:, :, 5]\nmodel3 = model[:, 5, :]\nmodel4 = model[5, :, :]\n\nplt.figure()\nplt.subplot(231)\nmodel2.pcolor()\nplt.subplot(232)\nmodel3.pcolor()\nplt.subplot(233)\nmodel4.pcolor()"
      ]
    },
    {
      "cell_type": "markdown",
      "metadata": {},
      "source": [
        "We can plot the mesh in 3D!\n\n"
      ]
    },
    {
      "cell_type": "code",
      "execution_count": null,
      "metadata": {
        "collapsed": false
      },
      "outputs": [],
      "source": [
        "pv = model.pyvista_plotter()"
      ]
    },
    {
      "cell_type": "markdown",
      "metadata": {},
      "source": [
        "We can plot the mesh in 3D!\n\n"
      ]
    },
    {
      "cell_type": "code",
      "execution_count": null,
      "metadata": {
        "collapsed": false
      },
      "outputs": [],
      "source": [
        "model.pyvista_mesh().save('model3d_re2.vtk')\n\n\nxx, yy = np.meshgrid(mesh.z.centres, mesh.x.centres)\ny_re = StatArray(np.sin(np.sqrt(xx ** 2.0 + yy ** 2.0)), \"y_re\")\n\nmesh = RectilinearMesh3D(x_edges=x, x_relative_to=x_re, y_edges=y, y_relative_to=y_re, z_edges=z, z_relative_to=z_re)\nmodel = Model(mesh=mesh, values=values)\n\nmodel1 = model[:5, :5, :5]\nmodel2 = model[:, :, 5]\nmodel3 = model[:, 5, :]\nmodel4 = model[5, :, :]\n\nplt.figure()\nplt.subplot(231)\nmodel2.pcolor()\nplt.subplot(232)\nmodel3.pcolor()\nplt.subplot(233)\nmodel4.pcolor()"
      ]
    },
    {
      "cell_type": "markdown",
      "metadata": {},
      "source": [
        "We can plot the mesh in 3D!\n\n"
      ]
    },
    {
      "cell_type": "code",
      "execution_count": null,
      "metadata": {
        "collapsed": false
      },
      "outputs": [],
      "source": [
        "pv = model.pyvista_plotter()"
      ]
    },
    {
      "cell_type": "markdown",
      "metadata": {},
      "source": [
        "We can plot the mesh in 3D!\n\n"
      ]
    },
    {
      "cell_type": "code",
      "execution_count": null,
      "metadata": {
        "collapsed": false
      },
      "outputs": [],
      "source": [
        "model.pyvista_mesh().save('model3d_re3.vtk')\n\n# with h5py.File('mesh3d.h5', 'w') as f:\n#     mesh.toHdf(f, 'test')\n\n# with h5py.File('mesh3d.h5', 'r') as f:\n#     mesh2 = RectilinearMesh3D.fromHdf(f['test'])\n\n# mesh2.pyvista_mesh().save('mesh3d_read.vtk')\n\nplt.show()"
      ]
    }
  ],
  "metadata": {
    "kernelspec": {
      "display_name": "Python 3",
      "language": "python",
      "name": "python3"
    },
    "language_info": {
      "codemirror_mode": {
        "name": "ipython",
        "version": 3
      },
      "file_extension": ".py",
      "mimetype": "text/x-python",
      "name": "python",
      "nbconvert_exporter": "python",
      "pygments_lexer": "ipython3",
      "version": "3.12.6"
    }
  },
  "nbformat": 4,
  "nbformat_minor": 0
}