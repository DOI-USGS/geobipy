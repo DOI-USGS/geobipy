{
  "cells": [
    {
      "cell_type": "code",
      "execution_count": null,
      "metadata": {
        "collapsed": false
      },
      "outputs": [],
      "source": [
        "%matplotlib inline"
      ]
    },
    {
      "cell_type": "markdown",
      "metadata": {},
      "source": [
        "\n# 1D Rectilinear Mesh\n"
      ]
    },
    {
      "cell_type": "code",
      "execution_count": null,
      "metadata": {
        "collapsed": false
      },
      "outputs": [],
      "source": [
        "from copy import deepcopy\nfrom geobipy import StatArray\nfrom geobipy import RectilinearMesh1D, RectilinearMesh2D, RectilinearMesh2D_stitched\nimport matplotlib.gridspec as gridspec\nimport matplotlib.pyplot as plt\nimport numpy as np\nimport h5py"
      ]
    },
    {
      "cell_type": "markdown",
      "metadata": {},
      "source": [
        "## The basics\nInstantiate a new 1D rectilinear mesh by specifying cell centres, edges, or widths.\n\n"
      ]
    },
    {
      "cell_type": "code",
      "execution_count": null,
      "metadata": {
        "collapsed": false
      },
      "outputs": [],
      "source": [
        "x = StatArray(np.cumsum(np.arange(0.0, 10.0)), 'Depth', 'm')"
      ]
    },
    {
      "cell_type": "markdown",
      "metadata": {},
      "source": [
        "Cell edges\n\n"
      ]
    },
    {
      "cell_type": "code",
      "execution_count": null,
      "metadata": {
        "collapsed": false
      },
      "outputs": [],
      "source": [
        "rm = RectilinearMesh1D(edges=x, centres=None, widths=None)"
      ]
    },
    {
      "cell_type": "markdown",
      "metadata": {},
      "source": [
        "We can plot the grid of the mesh\nOr Pcolor the mesh showing. An array of cell values is used as the colour.\n\n"
      ]
    },
    {
      "cell_type": "code",
      "execution_count": null,
      "metadata": {
        "collapsed": false
      },
      "outputs": [],
      "source": [
        "arr = StatArray(np.random.randn(*rm.shape), \"Name\", \"Units\")\np=0; plt.figure(p)\nplt.subplot(121)\n_ = rm.plotGrid(transpose=True, flip=True)\nplt.subplot(122)\n_ = rm.pcolor(arr, grid=True, transpose=True, flip=True)\n\n# Mask the mesh cells by a distance\nrm_masked, indices, arr2 = rm.mask_cells(2.0, values=arr)\np+=1; plt.figure(p)\n_ = rm_masked.pcolor(StatArray(arr2), grid=True, transpose=True, flip=True)\n\n# Writing and reading to/from HDF5\n# ++++++++++++++++++++++++++++++++\nwith h5py.File('rm1d.h5', 'w') as f:\n    rm.toHdf(f, 'rm1d')\n\nwith h5py.File('rm1d.h5', 'r') as f:\n    rm1 = RectilinearMesh1D.fromHdf(f['rm1d'])\n\np+=1; plt.figure(p)\nplt.subplot(121)\n_ = rm.pcolor(StatArray(arr), grid=True, transpose=True, flip=True)\nplt.subplot(122)\n_ = rm1.pcolor(StatArray(arr), grid=True, transpose=True, flip=True)\n\nwith h5py.File('rm1d.h5', 'w') as f:\n    rm.createHdf(f, 'rm1d', add_axis=10)\n    for i in range(10):\n        rm.writeHdf(f, 'rm1d', index=i)\n\nwith h5py.File('rm1d.h5', 'r') as f:\n    rm1 = RectilinearMesh1D.fromHdf(f['rm1d'], index=0)\nwith h5py.File('rm1d.h5', 'r') as f:\n    rm2 = RectilinearMesh2D.fromHdf(f['rm1d'])\n\np+=1; plt.figure(p)\nplt.subplot(131)\n_ = rm.pcolor(StatArray(arr), grid=True, transpose=True, flip=True)\nplt.subplot(132)\n_ = rm1.pcolor(arr, grid=True, transpose=True, flip=True)\nplt.subplot(133)\n_ = rm2.pcolor(np.repeat(arr[None, :], 10, 0), grid=True, flipY=True)"
      ]
    },
    {
      "cell_type": "markdown",
      "metadata": {},
      "source": [
        "## Log-space rectilinear mesh\nInstantiate a new 1D rectilinear mesh by specifying cell centres or edges.\nHere we use edges\n\n"
      ]
    },
    {
      "cell_type": "code",
      "execution_count": null,
      "metadata": {
        "collapsed": false
      },
      "outputs": [],
      "source": [
        "x = StatArray(np.logspace(-3, 3, 10), 'Depth', 'm')"
      ]
    },
    {
      "cell_type": "code",
      "execution_count": null,
      "metadata": {
        "collapsed": false
      },
      "outputs": [],
      "source": [
        "rm = RectilinearMesh1D(edges=x, log=10)\n\n# We can plot the grid of the mesh\n# Or Pcolor the mesh showing. An array of cell values is used as the colour.\np+=1; plt.figure(p)\nplt.subplot(121)\n_ = rm.plotGrid(transpose=True, flip=True)\nplt.subplot(122)\narr = StatArray(np.random.randn(rm.nCells), \"Name\", \"Units\")\n_ = rm.pcolor(arr, grid=True, transpose=True, flip=True)\n\n# Writing and reading to/from HDF5\n# ++++++++++++++++++++++++++++++++\nwith h5py.File('rm1d.h5', 'w') as f:\n    rm.toHdf(f, 'rm1d')\n\nwith h5py.File('rm1d.h5', 'r') as f:\n    rm1 = RectilinearMesh1D.fromHdf(f['rm1d'])\n\np+=1; plt.figure(p)\nplt.subplot(121)\n_ = rm.pcolor(StatArray(arr), grid=True, transpose=True, flip=True)\nplt.subplot(122)\n_ = rm1.pcolor(StatArray(arr), grid=True, transpose=True, flip=True)\n\nwith h5py.File('rm1d.h5', 'w') as f:\n    rm.createHdf(f, 'rm1d', add_axis=10)\n    for i in range(10):\n        rm.writeHdf(f, 'rm1d', index=i)\n\nwith h5py.File('rm1d.h5', 'r') as f:\n    rm1 = RectilinearMesh1D.fromHdf(f['rm1d'], index=0)\nwith h5py.File('rm1d.h5', 'r') as f:\n    rm2 = RectilinearMesh2D.fromHdf(f['rm1d'])\n\np+=1; plt.figure(p)\nplt.subplot(131)\n_ = rm.pcolor(StatArray(arr), grid=True, transpose=True, flip=True)\nplt.subplot(132)\n_ = rm1.pcolor(arr, grid=True, transpose=True, flip=True)\nplt.subplot(133)\n_ = rm2.pcolor(np.repeat(arr[None, :], 10, 0), grid=True, flipY=True)"
      ]
    },
    {
      "cell_type": "markdown",
      "metadata": {},
      "source": [
        "## RelativeTo\nInstantiate a new 1D rectilinear mesh by specifying cell centres or edges.\nHere we use edges\n\n"
      ]
    },
    {
      "cell_type": "code",
      "execution_count": null,
      "metadata": {
        "collapsed": false
      },
      "outputs": [],
      "source": [
        "x = StatArray(np.arange(11.0), 'Deviation', 'm')"
      ]
    },
    {
      "cell_type": "code",
      "execution_count": null,
      "metadata": {
        "collapsed": false
      },
      "outputs": [],
      "source": [
        "rm = RectilinearMesh1D(edges=x, relativeTo=5.0)"
      ]
    },
    {
      "cell_type": "markdown",
      "metadata": {},
      "source": [
        "We can plot the grid of the mesh\nOr Pcolor the mesh showing. An array of cell values is used as the colour.\n\n"
      ]
    },
    {
      "cell_type": "code",
      "execution_count": null,
      "metadata": {
        "collapsed": false
      },
      "outputs": [],
      "source": [
        "p+=1; plt.figure(p)\nplt.subplot(121)\n_ = rm.plotGrid(transpose=True, flip=True)\nplt.subplot(122)\narr = StatArray(np.random.randn(rm.nCells), \"Name\", \"Units\")\n_ = rm.pcolor(arr, grid=True, transpose=True, flip=True)\n\n# Writing and reading to/from HDF5\n# ++++++++++++++++++++++++++++++++\nwith h5py.File('rm1d.h5', 'w') as f:\n    rm.createHdf(f, 'rm1d')\n    rm.writeHdf(f, 'rm1d')\n\nwith h5py.File('rm1d.h5', 'r') as f:\n    rm1 = RectilinearMesh1D.fromHdf(f['rm1d'])\n\np+=1; plt.figure(p)\nplt.subplot(121)\n_ = rm.pcolor(StatArray(arr), grid=True, transpose=True, flip=True)\nplt.subplot(122)\n_ = rm1.pcolor(StatArray(arr), grid=True, transpose=True, flip=True)\n\nwith h5py.File('rm1d.h5', 'w') as f:\n    rm.createHdf(f, 'rm1d', add_axis=3)\n    for i in range(3):\n        rm.relativeTo += 0.5\n        rm.writeHdf(f, 'rm1d', index=i)\n\nwith h5py.File('rm1d.h5', 'r') as f:\n    rm1 = RectilinearMesh1D.fromHdf(f['rm1d'], index=0)\nwith h5py.File('rm1d.h5', 'r') as f:\n    rm2 = RectilinearMesh2D.fromHdf(f['rm1d'])\n\np+=1; plt.figure(p)\nplt.subplot(131)\n_ = rm.pcolor(StatArray(arr), grid=True, transpose=True, flip=True)\nplt.subplot(132)\n_ = rm1.pcolor(arr, grid=True, transpose=True, flip=True)\nplt.subplot(133)\n_ = rm2.pcolor(np.repeat(arr[None, :], 3, 0), grid=True, flipY=True)\n\n\n# Making a mesh perturbable\n# +++++++++++++++++++++++++\nn_cells = 2\nwidths = StatArray(np.full(n_cells, fill_value=10.0), 'test')\nrm = RectilinearMesh1D(widths=widths, relativeTo=0.0)"
      ]
    },
    {
      "cell_type": "markdown",
      "metadata": {},
      "source": [
        "## Randomness and Model Perturbations\nWe can set the priors on the 1D model by assigning minimum and maximum layer\ndepths and a maximum number of layers.  These are used to create priors on\nthe number of cells in the model, a new depth interface, new parameter values\nand the vertical gradient of those parameters.\nThe halfSpaceValue is used as a reference value for the parameter prior.\n\n"
      ]
    },
    {
      "cell_type": "code",
      "execution_count": null,
      "metadata": {
        "collapsed": false
      },
      "outputs": [],
      "source": [
        "from numpy.random import Generator\nfrom numpy.random import PCG64DXSM\ngenerator = PCG64DXSM(seed=0)\nprng = Generator(generator)\n\n# Set the priors\nrm.set_priors(min_edge = 1.0,\n              max_edge = 150.0,\n              max_cells = 30,\n              prng = prng)"
      ]
    },
    {
      "cell_type": "markdown",
      "metadata": {},
      "source": [
        "We can evaluate the prior of the model using depths only\n\n"
      ]
    },
    {
      "cell_type": "code",
      "execution_count": null,
      "metadata": {
        "collapsed": false
      },
      "outputs": [],
      "source": [
        "print('Log probability of the Mesh given its priors: ', rm.probability)"
      ]
    },
    {
      "cell_type": "markdown",
      "metadata": {},
      "source": [
        "To propose new meshes, we specify the probabilities of creating, removing, perturbing, and not changing\nan edge interface\nHere we force the creation of a layer.\n\n"
      ]
    },
    {
      "cell_type": "code",
      "execution_count": null,
      "metadata": {
        "collapsed": false
      },
      "outputs": [],
      "source": [
        "rm.set_proposals(probabilities = [0.25, 0.25, 0.25, 0.25], prng=prng)\nrm.set_posteriors()\n\nrm0 = deepcopy(rm)"
      ]
    },
    {
      "cell_type": "markdown",
      "metadata": {},
      "source": [
        "We can then perturb the layers of the model\n\n"
      ]
    },
    {
      "cell_type": "code",
      "execution_count": null,
      "metadata": {
        "collapsed": false
      },
      "outputs": [],
      "source": [
        "for i in range(1000):\n    rm = rm.perturb()\n    rm.update_posteriors()"
      ]
    },
    {
      "cell_type": "code",
      "execution_count": null,
      "metadata": {
        "collapsed": false
      },
      "outputs": [],
      "source": [
        "p+=1; fig = plt.figure(p)\nax = rm._init_posterior_plots(fig)\n\nrm.plot_posteriors(axes=ax)\n\nwith h5py.File('rm1d.h5', 'w') as f:\n    rm.createHdf(f, 'rm1d', withPosterior = True)\n    rm.writeHdf(f, 'rm1d', withPosterior = True)\n\nwith h5py.File('rm1d.h5', 'r') as f:\n    rm1 = RectilinearMesh1D.fromHdf(f['rm1d'])\n\np+=1; plt.figure(p)\nplt.subplot(121)\n_ = rm.pcolor(StatArray(rm.shape), grid=True, transpose=True, flip=True)\nplt.subplot(122)\n_ = rm1.pcolor(StatArray(rm1.shape), grid=True, transpose=True, flip=True)\n\np+=1; fig = plt.figure(p)\nax = rm1._init_posterior_plots(fig)\nrm1.plot_posteriors(axes=ax)"
      ]
    },
    {
      "cell_type": "markdown",
      "metadata": {},
      "source": [
        "Expanded\n\n"
      ]
    },
    {
      "cell_type": "code",
      "execution_count": null,
      "metadata": {
        "collapsed": false
      },
      "outputs": [],
      "source": [
        "with h5py.File('rm1d.h5', 'w') as f:\n    tmp = rm.pad(rm.max_cells)\n    tmp.createHdf(f, 'rm1d', withPosterior=True, add_axis=StatArray(np.arange(3.0), name='Easting', units=\"m\"))\n\n    rm.relativeTo = 5.0\n    rm.writeHdf(f, 'rm1d', withPosterior = True, index=0)\n\n    rm = deepcopy(rm0)\n    for i in range(1000):\n        rm = rm.perturb(); rm.update_posteriors()\n    rm.relativeTo = 10.0\n    rm.writeHdf(f, 'rm1d', withPosterior = True, index=1)\n\n    rm = deepcopy(rm0)\n    for i in range(1000):\n        rm = rm.perturb(); rm.update_posteriors()\n    rm.relativeTo = 25.0\n    rm.writeHdf(f, 'rm1d', withPosterior = True, index=2)\n\nwith h5py.File('rm1d.h5', 'r') as f:\n    rm2 = RectilinearMesh2D.fromHdf(f['rm1d'])\n\np+=1; plt.figure(p)\nplt.subplot(121)\narr = np.random.randn(3, rm.max_cells) * 10\n_ = rm0.pcolor(arr[0, :rm0.nCells.item()], grid=True, transpose=True, flip=True)\nplt.subplot(122)\n_ = rm2.pcolor(arr, grid=True, flipY=True, equalize=True)\n\nfrom geobipy import RectilinearMesh2D\nwith h5py.File('rm1d.h5', 'r') as f:\n    rm2 = RectilinearMesh2D.fromHdf(f['rm1d'], index=0)\n\nplt.figure()\nplt.subplot(121)\nrm2.plotGrid(transpose=True, flip=True)\nplt.subplot(122)\nrm2.edges.posterior.pcolor(transpose=True, flip=True)\n\nplt.show()"
      ]
    }
  ],
  "metadata": {
    "kernelspec": {
      "display_name": "Python 3",
      "language": "python",
      "name": "python3"
    },
    "language_info": {
      "codemirror_mode": {
        "name": "ipython",
        "version": 3
      },
      "file_extension": ".py",
      "mimetype": "text/x-python",
      "name": "python",
      "nbconvert_exporter": "python",
      "pygments_lexer": "ipython3",
      "version": "3.12.1"
    }
  },
  "nbformat": 4,
  "nbformat_minor": 0
}