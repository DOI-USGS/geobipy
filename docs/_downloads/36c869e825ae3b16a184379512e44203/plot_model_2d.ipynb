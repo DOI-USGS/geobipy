{
  "cells": [
    {
      "cell_type": "code",
      "execution_count": null,
      "metadata": {
        "collapsed": false
      },
      "outputs": [],
      "source": [
        "%matplotlib inline"
      ]
    },
    {
      "cell_type": "markdown",
      "metadata": {},
      "source": [
        "\n# 2D Rectilinear Model\nThis 2D rectilinear model defines a grid with straight cell boundaries.\n"
      ]
    },
    {
      "cell_type": "code",
      "execution_count": null,
      "metadata": {
        "collapsed": false
      },
      "outputs": [],
      "source": [
        "from geobipy import StatArray\nfrom geobipy import RectilinearMesh2D\nfrom geobipy import Model\nimport h5py\nimport matplotlib.pyplot as plt\nimport numpy as np"
      ]
    },
    {
      "cell_type": "markdown",
      "metadata": {},
      "source": [
        "Specify some cell centres in x and y\n\n"
      ]
    },
    {
      "cell_type": "code",
      "execution_count": null,
      "metadata": {
        "collapsed": false
      },
      "outputs": [],
      "source": [
        "x = StatArray(np.arange(11.0), 'Easting', 'm')\ny = StatArray(np.arange(11.0), 'Northing', 'm')\nmesh = RectilinearMesh2D(x_edges=x, y_edges=y)\n\nxx, yy = np.meshgrid(mesh.x.centres, mesh.y.centres)\nvalues = StatArray(np.sin(np.sqrt(xx ** 2.0 + yy ** 2.0)), \"Values\")\n\nmod = Model(mesh=mesh, values = values)\n\nplt.figure()\nmod.pcolor()\n\nmod2 = mod.resample(0.5, 0.5)\nmod3 = mod.resample(1.5, 1.5)\nplt.figure()\nplt.subplot(121)\nmod2.pcolor()\nplt.axis('equal')\nplt.subplot(122)\nmod3.pcolor()\nplt.axis('equal')\n\n\n# ################################################################################\n# # We can plot the mesh in 3D!\n# pv = rm.pyvista_plotter()\n# pv.show()\n\n# rm.to_vtk('Model3D.vtk')\n\nwith h5py.File('Model2D.h5', 'w') as f:\n    mod.toHdf(f, 'model')\n\nwith h5py.File('Model2D.h5', 'r') as f:\n    mod2 = Model.fromHdf(f['model'])\n\n\nplt.show()"
      ]
    }
  ],
  "metadata": {
    "kernelspec": {
      "display_name": "Python 3",
      "language": "python",
      "name": "python3"
    },
    "language_info": {
      "codemirror_mode": {
        "name": "ipython",
        "version": 3
      },
      "file_extension": ".py",
      "mimetype": "text/x-python",
      "name": "python",
      "nbconvert_exporter": "python",
      "pygments_lexer": "ipython3",
      "version": "3.10.8"
    }
  },
  "nbformat": 4,
  "nbformat_minor": 0
}