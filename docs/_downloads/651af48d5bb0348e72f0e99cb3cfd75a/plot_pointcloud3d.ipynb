{
  "cells": [
    {
      "cell_type": "code",
      "execution_count": null,
      "metadata": {
        "collapsed": false
      },
      "outputs": [],
      "source": [
        "%matplotlib inline"
      ]
    },
    {
      "cell_type": "markdown",
      "metadata": {},
      "source": [
        "\n# 3D Point Cloud class\n"
      ]
    },
    {
      "cell_type": "code",
      "execution_count": null,
      "metadata": {
        "collapsed": false
      },
      "outputs": [],
      "source": [
        "from geobipy import PointCloud3D\nfrom os.path import join\nimport numpy as np\nimport matplotlib.pyplot as plt\nimport h5py\n\nnPoints = 10000"
      ]
    },
    {
      "cell_type": "markdown",
      "metadata": {},
      "source": [
        "Create a quick test example using random points\n$z=x(1-x)cos(4\\pi x)sin(4\\pi y^{2})^{2}$\n\n"
      ]
    },
    {
      "cell_type": "code",
      "execution_count": null,
      "metadata": {
        "collapsed": false
      },
      "outputs": [],
      "source": [
        "x = -np.abs((2.0 * np.random.rand(nPoints)) - 1.0)\ny = -np.abs((2.0 * np.random.rand(nPoints)) - 1.0)\nz = x * (1.0 - x) * np.cos(np.pi * x) * np.sin(np.pi * y)\n\nPC3D = PointCloud3D(x=x, y=y, z=z)"
      ]
    },
    {
      "cell_type": "markdown",
      "metadata": {},
      "source": [
        "Append pointclouds together\n\n"
      ]
    },
    {
      "cell_type": "code",
      "execution_count": null,
      "metadata": {
        "collapsed": false
      },
      "outputs": [],
      "source": [
        "x = np.abs((2.0 * np.random.rand(nPoints)) - 1.0)\ny = np.abs((2.0 * np.random.rand(nPoints)) - 1.0)\nz = x * (1.0 - x) * np.cos(np.pi * x) * np.sin(np.pi * y)\n\nOther_PC = PointCloud3D(x=x, y=y, z=z)\nPC3D.append(Other_PC)"
      ]
    },
    {
      "cell_type": "markdown",
      "metadata": {},
      "source": [
        "Write a summary of the contents of the point cloud\n\n"
      ]
    },
    {
      "cell_type": "code",
      "execution_count": null,
      "metadata": {
        "collapsed": false
      },
      "outputs": [],
      "source": [
        "print(PC3D.summary)"
      ]
    },
    {
      "cell_type": "markdown",
      "metadata": {},
      "source": [
        "Get a single location from the point as a 3x1 vector\n\n"
      ]
    },
    {
      "cell_type": "code",
      "execution_count": null,
      "metadata": {
        "collapsed": false
      },
      "outputs": [],
      "source": [
        "Point = PC3D[50]\n# Print the point to the screen\nprint(Point)"
      ]
    },
    {
      "cell_type": "markdown",
      "metadata": {},
      "source": [
        "Plot the locations with Height as colour\n\n"
      ]
    },
    {
      "cell_type": "code",
      "execution_count": null,
      "metadata": {
        "collapsed": false
      },
      "outputs": [],
      "source": [
        "plt.figure()\nPC3D.scatter2D(edgecolor='k')"
      ]
    },
    {
      "cell_type": "markdown",
      "metadata": {},
      "source": [
        "Plotting routines take matplotlib arguments for customization\n\nFor example, plotting the size of the points according to the absolute value of height\n\n"
      ]
    },
    {
      "cell_type": "code",
      "execution_count": null,
      "metadata": {
        "collapsed": false
      },
      "outputs": [],
      "source": [
        "plt.figure()\nax = PC3D.scatter2D(s=100*np.abs(PC3D.z), edgecolor='k')"
      ]
    },
    {
      "cell_type": "markdown",
      "metadata": {},
      "source": [
        "Interpolate the points to a 2D rectilinear mesh\n\n"
      ]
    },
    {
      "cell_type": "code",
      "execution_count": null,
      "metadata": {
        "collapsed": false
      },
      "outputs": [],
      "source": [
        "mesh, dum = PC3D.interpolate(0.01, 0.01, values=PC3D.z, method='mc', mask=0.03)\n\n# We can save that mesh to VTK\nPC3D.to_vtk('pc3d.vtk')\nmesh.to_vtk('interpolated_pc3d.vtk')"
      ]
    },
    {
      "cell_type": "markdown",
      "metadata": {},
      "source": [
        "Grid the points using a triangulated CloughTocher, or minimum curvature interpolation\n\n"
      ]
    },
    {
      "cell_type": "code",
      "execution_count": null,
      "metadata": {
        "collapsed": false
      },
      "outputs": [],
      "source": [
        "plt.figure()\nplt.subplot(321)\nPC3D.map(dx=0.01, dy=0.01, method='ct')\nplt.subplot(322)\nPC3D.map(dx=0.01, dy=0.01, method='mc')\n\nplt.subplot(323)\nPC3D.map(dx=0.01, dy=0.01, method='ct', mask=0.03)\nplt.subplot(324)\nPC3D.map(dx=0.01, dy=0.01, method='mc', mask=0.03)"
      ]
    },
    {
      "cell_type": "markdown",
      "metadata": {},
      "source": [
        "For lots of points, these surfaces can look noisy. Using a block filter will help\n\n"
      ]
    },
    {
      "cell_type": "code",
      "execution_count": null,
      "metadata": {
        "collapsed": false
      },
      "outputs": [],
      "source": [
        "PCsub = PC3D.block_median(0.005, 0.005)\nplt.subplot(325)\nPCsub.map(dx=0.01, dy=0.01, method='ct', mask=0.03)\nplt.subplot(326)\nPCsub.map(dx=0.01, dy=0.01, method='mc', mask=0.03)"
      ]
    },
    {
      "cell_type": "markdown",
      "metadata": {},
      "source": [
        "We can perform spatial searches on the 3D point cloud\n\n"
      ]
    },
    {
      "cell_type": "code",
      "execution_count": null,
      "metadata": {
        "collapsed": false
      },
      "outputs": [],
      "source": [
        "PC3D.setKdTree(nDims=2)\np = PC3D.nearest((0.0,0.0), k=200, p=2, radius=0.3)"
      ]
    },
    {
      "cell_type": "markdown",
      "metadata": {},
      "source": [
        ".nearest returns the distances and indices into the point cloud of the nearest points.\nWe can then obtain those points as another point cloud\n\n"
      ]
    },
    {
      "cell_type": "code",
      "execution_count": null,
      "metadata": {
        "collapsed": false
      },
      "outputs": [],
      "source": [
        "pNear = PC3D[p[1]]\nplt.figure()\nax1 = plt.subplot(1,2,1)\npNear.scatter2D()\nplt.plot(0.0, 0.0, 'x')\nplt.subplot(1,2,2, sharex=ax1, sharey=ax1)\nax, sc, cb = PC3D.scatter2D(edgecolor='k')\nsearchRadius = plt.Circle((0.0, 0.0), 0.3, color='b', fill=False)\nax.add_artist(searchRadius)\nplt.plot(0.0, 0.0, 'x')"
      ]
    },
    {
      "cell_type": "markdown",
      "metadata": {},
      "source": [
        "Read in the xyz co-ordinates in columns 2,3,4 from a file. Skip 1 header line.\n\n"
      ]
    },
    {
      "cell_type": "code",
      "execution_count": null,
      "metadata": {
        "collapsed": false
      },
      "outputs": [],
      "source": [
        "dataFolder = \"..//supplementary//Data//\"\n\nPC3D.read_csv(filename=dataFolder + 'Resolve1.txt')"
      ]
    },
    {
      "cell_type": "code",
      "execution_count": null,
      "metadata": {
        "collapsed": false
      },
      "outputs": [],
      "source": [
        "plt.figure()\nf = PC3D.scatter2D(s=10)\n\nwith h5py.File('test.h5', 'w') as f:\n    PC3D.createHdf(f, 'test')\n    PC3D.writeHdf(f, 'test')\n\nwith h5py.File('test.h5', 'r') as f:\n    PC3D1 = PointCloud3D.fromHdf(f['test'])\n\nwith h5py.File('test.h5', 'r') as f:\n    point = PointCloud3D.fromHdf(f['test'], index=0)\n\nplt.show()"
      ]
    }
  ],
  "metadata": {
    "kernelspec": {
      "display_name": "Python 3",
      "language": "python",
      "name": "python3"
    },
    "language_info": {
      "codemirror_mode": {
        "name": "ipython",
        "version": 3
      },
      "file_extension": ".py",
      "mimetype": "text/x-python",
      "name": "python",
      "nbconvert_exporter": "python",
      "pygments_lexer": "ipython3",
      "version": "3.10.8"
    }
  },
  "nbformat": 4,
  "nbformat_minor": 0
}