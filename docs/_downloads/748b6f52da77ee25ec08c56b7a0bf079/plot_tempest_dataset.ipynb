{
  "cells": [
    {
      "cell_type": "code",
      "execution_count": null,
      "metadata": {
        "collapsed": false
      },
      "outputs": [],
      "source": [
        "%matplotlib inline"
      ]
    },
    {
      "cell_type": "markdown",
      "metadata": {},
      "source": [
        "\n# Tempest dataset\n"
      ]
    },
    {
      "cell_type": "code",
      "execution_count": null,
      "metadata": {
        "collapsed": false
      },
      "outputs": [],
      "source": [
        "import h5py\nfrom geobipy import plotting as cP\nfrom os.path import join\nimport matplotlib.pyplot as plt\nimport numpy as np\nfrom geobipy import TempestData"
      ]
    },
    {
      "cell_type": "markdown",
      "metadata": {},
      "source": [
        "## Reading in the Data\n\n"
      ]
    },
    {
      "cell_type": "code",
      "execution_count": null,
      "metadata": {
        "collapsed": false
      },
      "outputs": [],
      "source": [
        "dataFolder = \"..//supplementary//data//\"\n\n# # The data file name\n# dataFiles = dataFolder + 'Tempest.nc'\n# # The EM system file name\n# systemFiles = dataFolder + 'Tempest.stm'\n\n# ################################################################################\n# # Read in the data from file\n# TD = TempestData.read_netcdf(dataFiles, systemFiles)\n\n# TD.write_csv(dataFolder + 'Tempest.csv')\nTD = TempestData.read_csv(dataFolder + 'tempest_saline_clay.csv', system_filename=dataFolder + 'Tempest.stm')"
      ]
    },
    {
      "cell_type": "markdown",
      "metadata": {},
      "source": [
        "Plot the locations of the data points\n\n"
      ]
    },
    {
      "cell_type": "code",
      "execution_count": null,
      "metadata": {
        "collapsed": false
      },
      "outputs": [],
      "source": [
        "plt.figure(figsize=(8,6))\n_ = TD.scatter2D(equalize=True)\nplt.title(\"Scatter plot\")"
      ]
    },
    {
      "cell_type": "markdown",
      "metadata": {},
      "source": [
        "Plot all the data along the specified line\n\n"
      ]
    },
    {
      "cell_type": "code",
      "execution_count": null,
      "metadata": {
        "collapsed": false
      },
      "outputs": [],
      "source": [
        "plt.figure(figsize=(8,6))\n_ = TD.plotLine(0.0)\nplt.title('Line {}'.format(225401.0))"
      ]
    },
    {
      "cell_type": "markdown",
      "metadata": {},
      "source": [
        "Or, plot specific channels in the data\n\n"
      ]
    },
    {
      "cell_type": "code",
      "execution_count": null,
      "metadata": {
        "collapsed": false
      },
      "outputs": [],
      "source": [
        "plt.figure(figsize=(8,6))\n_ = TD.plot_data(system=0, channels=[0, 6, 18])\nplt.title(\"3 channels of data\")"
      ]
    },
    {
      "cell_type": "code",
      "execution_count": null,
      "metadata": {
        "collapsed": false
      },
      "outputs": [],
      "source": [
        "plt.figure()\n_ = TD.pcolor(system=0)\nplt.title('Data as an array')"
      ]
    },
    {
      "cell_type": "code",
      "execution_count": null,
      "metadata": {
        "collapsed": false
      },
      "outputs": [],
      "source": [
        "plt.figure()\nax = TD.scatter2D(s=1.0, c=TD.data[:, TD.channel_index(system=0, channel=10)], equalize=True)\nplt.axis('equal')\nplt.title(\"scatter plot of specific channel\")\n\n\n# with h5py.File('tdem.h5', 'w') as f:\n#     TD.createHdf(f, 'tdem')\n#     TD.writeHdf(f, 'tdem')\n\n# with h5py.File('tdem.h5', 'r') as f:\n#     TD3 = TempestData.fromHdf(f['tdem'])\n\n# with h5py.File('tdem.h5', 'r') as f:\n#     tdp = TempestData.fromHdf(f['tdem'], index=0)\n\n\n# #%%\n# # Obtain a line from the data set\n# # +++++++++++++++++++++++++++++++\n# line = TD.line(0.0)\n\n# ################################################################################\n# plt.figure()\n# _ = line.scatter2D()\n# plt.title('Channel')\n\n# ################################################################################\n# plt.figure()\n# _ = line.plot_data(xAxis='index', log=10)\n# plt.title(\"All data along line\")\n\nplt.show()"
      ]
    }
  ],
  "metadata": {
    "kernelspec": {
      "display_name": "Python 3",
      "language": "python",
      "name": "python3"
    },
    "language_info": {
      "codemirror_mode": {
        "name": "ipython",
        "version": 3
      },
      "file_extension": ".py",
      "mimetype": "text/x-python",
      "name": "python",
      "nbconvert_exporter": "python",
      "pygments_lexer": "ipython3",
      "version": "3.10.8"
    }
  },
  "nbformat": 4,
  "nbformat_minor": 0
}