{
  "cells": [
    {
      "cell_type": "code",
      "execution_count": null,
      "metadata": {
        "collapsed": false
      },
      "outputs": [],
      "source": [
        "%matplotlib inline"
      ]
    },
    {
      "cell_type": "markdown",
      "metadata": {},
      "source": [
        "\n# Frequency domain dataset\n"
      ]
    },
    {
      "cell_type": "code",
      "execution_count": null,
      "metadata": {
        "collapsed": false
      },
      "outputs": [],
      "source": [
        "import matplotlib.pyplot as plt\nfrom geobipy import CircularLoops\nfrom geobipy import FdemSystem\nfrom geobipy import FdemData\nimport h5py\nimport numpy as np"
      ]
    },
    {
      "cell_type": "markdown",
      "metadata": {},
      "source": [
        "## Defining data using a frequency domain system\n\n"
      ]
    },
    {
      "cell_type": "markdown",
      "metadata": {},
      "source": [
        "We can start by defining the frequencies, transmitter loops, and receiver loops\nFor each frequency we need to define a pair of loops\n\n"
      ]
    },
    {
      "cell_type": "code",
      "execution_count": null,
      "metadata": {
        "collapsed": false
      },
      "outputs": [],
      "source": [
        "frequencies = np.asarray([395.0, 822.0, 3263.0, 8199.0, 38760.0, 128755.0])"
      ]
    },
    {
      "cell_type": "markdown",
      "metadata": {},
      "source": [
        "Transmitter positions are defined relative to the observation locations in the data\nThis is usually a constant offset for all data points.\n\n"
      ]
    },
    {
      "cell_type": "code",
      "execution_count": null,
      "metadata": {
        "collapsed": false
      },
      "outputs": [],
      "source": [
        "transmitters = CircularLoops(orientation=['z','z','x','z','z','z'],\n                             moment=np.r_[1, 1, -1, 1, 1, 1],\n                             x = np.r_[0,0,0,0,0,0],\n                             y = np.r_[0,0,0,0,0,0],\n                             z = np.r_[0,0,0,0,0,0],\n                             pitch = np.r_[0,0,0,0,0,0],\n                             roll = np.r_[0,0,0,0,0,0],\n                             yaw = np.r_[0,0,0,0,0,0],\n                             radius = np.r_[1,1,1,1,1,1])"
      ]
    },
    {
      "cell_type": "markdown",
      "metadata": {},
      "source": [
        "Receiver positions are defined relative to the transmitter\n\n"
      ]
    },
    {
      "cell_type": "code",
      "execution_count": null,
      "metadata": {
        "collapsed": false
      },
      "outputs": [],
      "source": [
        "receivers = CircularLoops(orientation=['z','z','x','z','z','z'],\n                             moment=np.r_[1, 1, -1, 1, 1, 1],\n                             x = np.r_[7.91, 7.91, 9.03, 7.91, 7.91, 7.89],\n                             y = np.r_[0,0,0,0,0,0],\n                             z = np.r_[0,0,0,0,0,0],\n                             pitch = np.r_[0,0,0,0,0,0],\n                             roll = np.r_[0,0,0,0,0,0],\n                             yaw = np.r_[0,0,0,0,0,0],\n                             radius = np.r_[1,1,1,1,1,1])"
      ]
    },
    {
      "cell_type": "markdown",
      "metadata": {},
      "source": [
        "Instantiate the system for the data\n\n"
      ]
    },
    {
      "cell_type": "code",
      "execution_count": null,
      "metadata": {
        "collapsed": false
      },
      "outputs": [],
      "source": [
        "system = FdemSystem(frequencies=frequencies, transmitter=transmitters, receiver=receivers)"
      ]
    },
    {
      "cell_type": "markdown",
      "metadata": {},
      "source": [
        "Create some data with random co-ordinates\n\n"
      ]
    },
    {
      "cell_type": "code",
      "execution_count": null,
      "metadata": {
        "collapsed": false
      },
      "outputs": [],
      "source": [
        "x = np.random.randn(100)\ny = np.random.randn(100)\nz = np.random.randn(100)\n\ndata = FdemData(x=x, y=-y, z=z, system = system)"
      ]
    },
    {
      "cell_type": "markdown",
      "metadata": {},
      "source": [
        "## Reading in the Data\nOf course measured field data is stored on disk. So instead we can read data from file.\n\n"
      ]
    },
    {
      "cell_type": "code",
      "execution_count": null,
      "metadata": {
        "collapsed": false
      },
      "outputs": [],
      "source": [
        "dataFolder = \"..//supplementary//data//\"\n# The data file name\ndataFile = dataFolder + 'Resolve2.txt'\n# The EM system file name\nsystemFile = dataFolder + 'FdemSystem2.stm'"
      ]
    },
    {
      "cell_type": "markdown",
      "metadata": {},
      "source": [
        "Read in a data set from file.\n\n"
      ]
    },
    {
      "cell_type": "code",
      "execution_count": null,
      "metadata": {
        "collapsed": false
      },
      "outputs": [],
      "source": [
        "FD1 = FdemData.read_csv(dataFile, systemFile)"
      ]
    },
    {
      "cell_type": "markdown",
      "metadata": {},
      "source": [
        "Take a look at the channel names\n\n"
      ]
    },
    {
      "cell_type": "code",
      "execution_count": null,
      "metadata": {
        "collapsed": false
      },
      "outputs": [],
      "source": [
        "for name in FD1.channelNames:\n    print(name)\n\n# ################################################################################\n# # Get data points by slicing\n# FDa = FD1[10:]\n# FD1 = FD1[:10]\n\n# ################################################################################\n# # Append data sets together\n# FD1.append(FDa)\n\n\n# ################################################################################\n# # Plot the locations of the data points\n# plt.figure(figsize=(8,6))\n# _ = FD1.scatter2D();\n\n# ################################################################################\n# # Plot all the data along the specified line\n# plt.figure(figsize=(8,6))\n# _ = FD1.plotLine(30010.0, log=10);\n\n# ################################################################################\n# # Or, plot specific channels in the data\n# plt.figure(figsize=(8,6))\n# _ = FD1.plot(channels=[0,11,8], log=10, linewidth=0.5);"
      ]
    },
    {
      "cell_type": "markdown",
      "metadata": {},
      "source": [
        "Read in a second data set\n\n"
      ]
    },
    {
      "cell_type": "code",
      "execution_count": null,
      "metadata": {
        "collapsed": false
      },
      "outputs": [],
      "source": [
        "FD2 = FdemData.read_csv(dataFilename=dataFolder + 'Resolve1.txt', systemFilename=dataFolder + 'FdemSystem1.stm')"
      ]
    },
    {
      "cell_type": "markdown",
      "metadata": {},
      "source": [
        "We can create maps of the elevations in two separate figures\n\n"
      ]
    },
    {
      "cell_type": "code",
      "execution_count": null,
      "metadata": {
        "collapsed": false
      },
      "outputs": [],
      "source": [
        "plt.figure(figsize=(8,6))\n_ = FD1.map(dx=50.0, dy=50.0, mask = 200.0)\nplt.axis('equal');"
      ]
    },
    {
      "cell_type": "code",
      "execution_count": null,
      "metadata": {
        "collapsed": false
      },
      "outputs": [],
      "source": [
        "plt.figure(figsize=(8,6))\n_ = FD2.map(dx=50.0, dy=50.0, mask = 200.0)\nplt.axis('equal');"
      ]
    },
    {
      "cell_type": "markdown",
      "metadata": {},
      "source": [
        "Or, we can plot both data sets in one figure to see their positions relative\nto each other.\n\nIn this case, I use a 2D scatter plot of the data point co-ordinates, and pass\none of the channels as the colour.\n\n"
      ]
    },
    {
      "cell_type": "code",
      "execution_count": null,
      "metadata": {
        "collapsed": false
      },
      "outputs": [],
      "source": [
        "plt.figure(figsize=(8,6))\n_ = FD1.scatter2D(s=1.0, c=FD1.data[:, 0])\n_ = FD2.scatter2D(s=1.0, c=FD2.data[:, 0], cmap='jet');"
      ]
    },
    {
      "cell_type": "markdown",
      "metadata": {},
      "source": [
        "Or, interpolate the values to create a gridded \"map\". mapChannel will\ninterpolate the specified channel number.\n\n"
      ]
    },
    {
      "cell_type": "code",
      "execution_count": null,
      "metadata": {
        "collapsed": false
      },
      "outputs": [],
      "source": [
        "plt.figure(figsize=(8,6))\n_ = FD1.mapData(channel=3, system=0, dx=200, dy=200, mask=250)\nplt.axis('equal');"
      ]
    },
    {
      "cell_type": "markdown",
      "metadata": {},
      "source": [
        "Export the data to VTK\n\n"
      ]
    },
    {
      "cell_type": "code",
      "execution_count": null,
      "metadata": {
        "collapsed": false
      },
      "outputs": [],
      "source": [
        "FD1.to_vtk('FD_one.vtk')\n# FD2.to_vtk('FD_two.vtk')"
      ]
    },
    {
      "cell_type": "markdown",
      "metadata": {},
      "source": [
        "## Obtain a line from the data set\n\n"
      ]
    },
    {
      "cell_type": "markdown",
      "metadata": {},
      "source": [
        "Take a look at the line numbers in the dataset\n\n"
      ]
    },
    {
      "cell_type": "code",
      "execution_count": null,
      "metadata": {
        "collapsed": false
      },
      "outputs": [],
      "source": [
        "print(np.unique(FD1.lineNumber))"
      ]
    },
    {
      "cell_type": "code",
      "execution_count": null,
      "metadata": {
        "collapsed": false
      },
      "outputs": [],
      "source": [
        "L = FD1.line(30010.0)"
      ]
    },
    {
      "cell_type": "markdown",
      "metadata": {},
      "source": [
        "A summary will now show the properties of the line.\n\n"
      ]
    },
    {
      "cell_type": "code",
      "execution_count": null,
      "metadata": {
        "collapsed": false
      },
      "outputs": [],
      "source": [
        "print(L.summary)"
      ]
    },
    {
      "cell_type": "markdown",
      "metadata": {},
      "source": [
        "And we can scatter2D the points in the line.\n\n"
      ]
    },
    {
      "cell_type": "code",
      "execution_count": null,
      "metadata": {
        "collapsed": false
      },
      "outputs": [],
      "source": [
        "plt.figure(figsize=(8,6))\n_ = L.scatter2D();"
      ]
    },
    {
      "cell_type": "markdown",
      "metadata": {},
      "source": [
        "We can specify the axis along which to plot.\nxAxis can be index, x, y, z, r2d, r3d\n\n"
      ]
    },
    {
      "cell_type": "code",
      "execution_count": null,
      "metadata": {
        "collapsed": false
      },
      "outputs": [],
      "source": [
        "plt.figure(figsize=(8,6))\n_ = FD1.plot_data(channels=np.r_[0, 11, 8], log=10, linewidth=0.5);\n\n\nwith h5py.File('fdem.h5', 'w') as f:\n    FD1.createHdf(f, 'fdem')\n    FD1.writeHdf(f, 'fdem')\n\nwith h5py.File('fdem.h5', 'r') as f:\n    FD3 = FdemData.fromHdf(f['fdem'])\n\nwith h5py.File('fdem.h5', 'r') as f:\n    fdp = FdemData.fromHdf(f['fdem'], index=0)"
      ]
    },
    {
      "cell_type": "markdown",
      "metadata": {},
      "source": [
        "## Obtain a single datapoint from the data set\n\nCheckout `Frequency domain datapoint` for an example\nabout how to use a datapoint once it is instantiated.\n\n"
      ]
    },
    {
      "cell_type": "code",
      "execution_count": null,
      "metadata": {
        "collapsed": false
      },
      "outputs": [],
      "source": [
        "dp = FD1.datapoint(0)\n\n# Prepare the dataset so that we can read a point at a time.\nDataset = FdemData._initialize_sequential_reading(dataFile, systemFile)\n# Get a datapoint from the file.\nDataPoint = Dataset._read_record()\n\nplt.show()"
      ]
    },
    {
      "cell_type": "markdown",
      "metadata": {},
      "source": [
        "## File Format for frequency domain data\nHere we describe the file format for frequency domain data.\n\nThe data columns are read in according to the column names in the first line.\n\nIn this description, the column name or its alternatives are given followed by what the name represents.\nOptional columns are also described.\n\n### Required columns\nline\n    Line number for the data point\nfid\n    Unique identification number of the data point\nx or northing or n\n    Northing co-ordinate of the data point, (m)\ny or easting or e\n    Easting co-ordinate of the data point, (m)\nz or alt\n    Altitude of the transmitter coil above ground level (m)\nelevation\n    Elevation of the ground at the data point (m)\nI_<frequency[0]> Q_<frequency[0]> ... I_<frequency[last]> Q_<frequency[last]>  - with the number and square brackets\n    The measurements for each frequency specified in the accompanying system file.\n    I is the real inphase measurement in (ppm)\n    Q is the imaginary quadrature measurement in (ppm)\nOptional columns\n________________\nInphaseErr[0] QuadratureErr[0] ... InphaseErr[nFrequencies] QuadratureErr[nFrequencies]\n    Estimates of standard deviation for each inphase and quadrature measurement.\n    These must appear after the data colums.\n\n### Example Header\nLine fid easting northing elevation height I_380 Q_380 ... ... I_129550 Q_129550\n\n"
      ]
    },
    {
      "cell_type": "markdown",
      "metadata": {},
      "source": [
        "## File Format for a frequency domain system\n.. role:: raw-html(raw)\n   :format: html\n\nThe system file is structured using columns with the first line containing header information\n\nEach subsequent row contains the information for each measurement frequency\n\nfreq\n    Frequency of the channel\ntor\n    Orientation of the transmitter loop 'x', or 'z'\ntmom\n    Transmitter moment\ntx, ty, tx\n    Offset of the transmitter with respect to the observation locations\nror\n    Orientation of the receiver loop 'x', or 'z'\nrmom\n    Receiver moment\nrx, ry, rz\n    Offset of the receiver with respect to the transmitter location\n\nExample system files are contained in\n`the supplementary folder`_ in this repository\n\n\nSee the Resolve.stm files.\n"
      ]
    }
  ],
  "metadata": {
    "kernelspec": {
      "display_name": "Python 3",
      "language": "python",
      "name": "python3"
    },
    "language_info": {
      "codemirror_mode": {
        "name": "ipython",
        "version": 3
      },
      "file_extension": ".py",
      "mimetype": "text/x-python",
      "name": "python",
      "nbconvert_exporter": "python",
      "pygments_lexer": "ipython3",
      "version": "3.10.8"
    }
  },
  "nbformat": 4,
  "nbformat_minor": 0
}