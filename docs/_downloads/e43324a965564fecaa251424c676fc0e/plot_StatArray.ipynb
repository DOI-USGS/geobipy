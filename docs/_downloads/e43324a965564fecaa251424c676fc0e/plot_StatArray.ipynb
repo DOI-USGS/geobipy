{
  "cells": [
    {
      "cell_type": "code",
      "execution_count": null,
      "metadata": {
        "collapsed": false
      },
      "outputs": [],
      "source": [
        "%matplotlib inline"
      ]
    },
    {
      "cell_type": "markdown",
      "metadata": {},
      "source": [
        "\n# StatArray Class\n\nExtends the numpy ndarray class to add extra attributes such as names, and\nunits, and allows us to attach statistical descriptors of the array.\nThe direct extension to numpy maintains speed and functionality of numpy arrays.\n"
      ]
    },
    {
      "cell_type": "code",
      "execution_count": null,
      "metadata": {
        "collapsed": false
      },
      "outputs": [],
      "source": [
        "from geobipy import StatArray\nfrom geobipy import Histogram\nfrom geobipy import Distribution\nfrom geobipy.src.classes.mesh.RectilinearMesh1D import RectilinearMesh1D\nimport numpy as np\nimport matplotlib.pyplot as plt\nimport h5py\n\n# plt.style.use('seaborn-pastel')"
      ]
    },
    {
      "cell_type": "markdown",
      "metadata": {},
      "source": [
        "## Instantiating a new StatArray class\n\n\n"
      ]
    },
    {
      "cell_type": "code",
      "execution_count": null,
      "metadata": {
        "collapsed": false
      },
      "outputs": [],
      "source": [
        "# Integer\ntest = StatArray(1, name='1')\nprint(test.summary)\ntest = StatArray(10, name='10')\nprint(test.summary)\n# tuple/Shape\ntest = StatArray((2, 10), name='(2, 10)')\nprint(test.summary)\n\n# float\ntest = StatArray(45.454, name='45.454')\nprint(test.summary)\ntest = StatArray(np.float64(45.454), name='45.454')\nprint(test.summary)\n\n# complex\n# test = StatArray(np.complex(0.0, 1.0), name='complex(0, 1)')\n\n# array\nDensity = StatArray(np.random.randn(1), name=\"Density\", units=\"$\\frac{g}{cc}$\")\nprint(Density.summary)\n\n# The StatArray can take any numpy function that returns an array as an input.\n# The name and units of the variable can be assigned to the StatArray."
      ]
    },
    {
      "cell_type": "markdown",
      "metadata": {},
      "source": [
        "## Attaching Prior and Proposal Distributions to a StatArray\n\nThe StatArray class has been built so that we may easily\nattach not only names and units, but statistical distributions too.\nWe won't go into too much detail about the different distribution\n\nTwo types of distributions can be attached to the StatArray.\n\n* Prior Distribution\n    The prior represents how the user believes the variable should\n    behave from a statistical standpoint.\n    The values of the variable can be evaluated against the attached prior,\n    to determine how likely they are to have occured https://en.wikipedia.org/wiki/Prior_probability\n\n* Proposal Distribution\n    The proposal describes a probability distribution from which to\n    sample when we wish to perturb the variable\n    https://en.wikipedia.org/wiki/Metropolis%E2%80%93Hastings_algorithm\n\n"
      ]
    },
    {
      "cell_type": "code",
      "execution_count": null,
      "metadata": {
        "collapsed": false
      },
      "outputs": [],
      "source": [
        "# Obtain an instantiation of a random number generator.\n# This is optional, but is an important consideration for parallel programming.\nfrom numpy.random import Generator\nfrom numpy.random import PCG64DXSM\ngenerator = PCG64DXSM(seed=0)\nprng = Generator(generator)\n\nDensity.prior = Distribution('Uniform', -2.0, 2.0, prng=prng)"
      ]
    },
    {
      "cell_type": "markdown",
      "metadata": {},
      "source": [
        "We can also attach a proposal distribution\n\n"
      ]
    },
    {
      "cell_type": "code",
      "execution_count": null,
      "metadata": {
        "collapsed": false
      },
      "outputs": [],
      "source": [
        "Density.proposal = Distribution('Normal', 0.0, 1.0, prng=prng)\nprint(Density.summary)\nprint(\"Class type of the prior: \",type(Density.prior))\nprint(\"Class type of the proposal: \",type(Density.proposal))"
      ]
    },
    {
      "cell_type": "markdown",
      "metadata": {},
      "source": [
        "The values in the variable can be evaluated against the prior.\nIn this case, we have 3 elements in the variable, and a univariate Normal for the prior.\nTherefore each element is evaluated to get 3 probabilities, one for each element.\n\n"
      ]
    },
    {
      "cell_type": "code",
      "execution_count": null,
      "metadata": {
        "collapsed": false
      },
      "outputs": [],
      "source": [
        "print(Density.probability(log=False))"
      ]
    },
    {
      "cell_type": "markdown",
      "metadata": {},
      "source": [
        "The univariate proposal distribution can generate random samples from itself.\n\n"
      ]
    },
    {
      "cell_type": "code",
      "execution_count": null,
      "metadata": {
        "collapsed": false
      },
      "outputs": [],
      "source": [
        "print(Density.propose())"
      ]
    },
    {
      "cell_type": "markdown",
      "metadata": {},
      "source": [
        "From a sampling stand point we can either sample using only the proposal\nOr we can only generate samples that simultaneously satisfy the prior.\n\n"
      ]
    },
    {
      "cell_type": "code",
      "execution_count": null,
      "metadata": {
        "collapsed": false
      },
      "outputs": [],
      "source": [
        "print(Density.propose(relative=True))"
      ]
    },
    {
      "cell_type": "markdown",
      "metadata": {},
      "source": [
        "We can perturb the variable by drawing from the attached proposal distribution.\n\n"
      ]
    },
    {
      "cell_type": "code",
      "execution_count": null,
      "metadata": {
        "collapsed": false
      },
      "outputs": [],
      "source": [
        "Density.perturb()\nprint(Density.summary)"
      ]
    },
    {
      "cell_type": "markdown",
      "metadata": {},
      "source": [
        "## Attaching a Histogram to capture the posterior distribution\nThe StatArray can perturb itself, evaluate its current probability given its priors\nand a histogram can be attached to capture its posterior distribution.\nAs an example, lets create a Histogram class with bins generated from the prior.\n\n"
      ]
    },
    {
      "cell_type": "code",
      "execution_count": null,
      "metadata": {
        "collapsed": false
      },
      "outputs": [],
      "source": [
        "bins = Density.prior.bins()"
      ]
    },
    {
      "cell_type": "markdown",
      "metadata": {},
      "source": [
        "Attach the histogram\n\n"
      ]
    },
    {
      "cell_type": "code",
      "execution_count": null,
      "metadata": {
        "collapsed": false
      },
      "outputs": [],
      "source": [
        "Density.posterior = Histogram(mesh = RectilinearMesh1D(edges=bins))"
      ]
    },
    {
      "cell_type": "markdown",
      "metadata": {},
      "source": [
        "In an iterative sense, we can propose and evaluate new values, and update the posterior\n\n"
      ]
    },
    {
      "cell_type": "code",
      "execution_count": null,
      "metadata": {
        "collapsed": false
      },
      "outputs": [],
      "source": [
        "for i in range(1000):\n    Density.perturb()\n    p = Density.probability(log=False)\n\n    if p > 0.0: # This is a simple example!\n        Density.update_posterior()"
      ]
    },
    {
      "cell_type": "code",
      "execution_count": null,
      "metadata": {
        "collapsed": false
      },
      "outputs": [],
      "source": [
        "plt.figure()\nDensity.summaryPlot()"
      ]
    },
    {
      "cell_type": "markdown",
      "metadata": {},
      "source": [
        "## Attach a multivariate normal distribution as the prior and proposal\n\nAttach the multivariate prior\n\n"
      ]
    },
    {
      "cell_type": "code",
      "execution_count": null,
      "metadata": {
        "collapsed": false
      },
      "outputs": [],
      "source": [
        "mean = np.random.randn(Density.size)\nvariance = np.ones(Density.size)\nDensity.prior = Distribution('MvNormal', mean, variance, prng=prng)"
      ]
    },
    {
      "cell_type": "markdown",
      "metadata": {},
      "source": [
        "Since the prior is multivariate, the appropriate equations are used to\nevaluate the probability for all elements in the StatArray.\nThis produces a single probability.\n\n"
      ]
    },
    {
      "cell_type": "code",
      "execution_count": null,
      "metadata": {
        "collapsed": false
      },
      "outputs": [],
      "source": [
        "print(Density.probability(log=False))"
      ]
    },
    {
      "cell_type": "markdown",
      "metadata": {},
      "source": [
        "Attach the multivariate proposal\n\n"
      ]
    },
    {
      "cell_type": "code",
      "execution_count": null,
      "metadata": {
        "collapsed": false
      },
      "outputs": [],
      "source": [
        "mean = np.random.randn(Density.size)\nvariance = np.ones(Density.size)\nDensity.proposal = Distribution('MvNormal', mean, variance, prng=prng)"
      ]
    },
    {
      "cell_type": "markdown",
      "metadata": {},
      "source": [
        "Perturb the variables using the multivariate proposal.\n\n"
      ]
    },
    {
      "cell_type": "code",
      "execution_count": null,
      "metadata": {
        "collapsed": false
      },
      "outputs": [],
      "source": [
        "Density.perturb()\nDensity.summary\n\nwith h5py.File('statarray.h5', 'w') as f:\n    Density.createHdf(f, 'statarray', withPosterior=True, add_axis=3)\n    Density.writeHdf(f, 'statarray', withPosterior=True, index=0)\n\nwith h5py.File('statarray.h5', 'r') as f:\n    tmp = StatArray.fromHdf(f, 'statarray', index=0, skip_posterior=False)\n\nwith h5py.File('statarray.h5', 'r') as f:\n    tmp = StatArray.fromHdf(f, 'statarray', skip_posterior=False)"
      ]
    },
    {
      "cell_type": "markdown",
      "metadata": {},
      "source": [
        "## Basic manipulation\n\nThe StatArray contains other functions to perform basic array manipulations\n\nThese routines essentially wrap around numpy functions,\nbut the result will have the same name and units,\nand if any prior or proposal are set, those will be carried through too.\n\n### 1D example\n\n"
      ]
    },
    {
      "cell_type": "code",
      "execution_count": null,
      "metadata": {
        "collapsed": false
      },
      "outputs": [],
      "source": [
        "x = StatArray(-np.cumsum(np.arange(10.0)))\nprint(x)"
      ]
    },
    {
      "cell_type": "code",
      "execution_count": null,
      "metadata": {
        "collapsed": false
      },
      "outputs": [],
      "source": [
        "print(x.insert(i=[0, 9], values=[999.0, 999.0]))"
      ]
    },
    {
      "cell_type": "code",
      "execution_count": null,
      "metadata": {
        "collapsed": false
      },
      "outputs": [],
      "source": [
        "print(x.prepend(999.0))"
      ]
    },
    {
      "cell_type": "code",
      "execution_count": null,
      "metadata": {
        "collapsed": false
      },
      "outputs": [],
      "source": [
        "print(x.prepend([998.0, 999.0]))"
      ]
    },
    {
      "cell_type": "code",
      "execution_count": null,
      "metadata": {
        "collapsed": false
      },
      "outputs": [],
      "source": [
        "print(x.append([998.0, 999.0]))"
      ]
    },
    {
      "cell_type": "code",
      "execution_count": null,
      "metadata": {
        "collapsed": false
      },
      "outputs": [],
      "source": [
        "print(x.resize(14))"
      ]
    },
    {
      "cell_type": "code",
      "execution_count": null,
      "metadata": {
        "collapsed": false
      },
      "outputs": [],
      "source": [
        "print(x.delete([5,8]))"
      ]
    },
    {
      "cell_type": "code",
      "execution_count": null,
      "metadata": {
        "collapsed": false
      },
      "outputs": [],
      "source": [
        "print(x.edges())"
      ]
    },
    {
      "cell_type": "code",
      "execution_count": null,
      "metadata": {
        "collapsed": false
      },
      "outputs": [],
      "source": [
        "print(x.internalEdges())"
      ]
    },
    {
      "cell_type": "code",
      "execution_count": null,
      "metadata": {
        "collapsed": false
      },
      "outputs": [],
      "source": [
        "print(x.firstNonZero())"
      ]
    },
    {
      "cell_type": "code",
      "execution_count": null,
      "metadata": {
        "collapsed": false
      },
      "outputs": [],
      "source": [
        "print(x.lastNonZero())"
      ]
    },
    {
      "cell_type": "code",
      "execution_count": null,
      "metadata": {
        "collapsed": false
      },
      "outputs": [],
      "source": [
        "print(x.abs())"
      ]
    },
    {
      "cell_type": "markdown",
      "metadata": {},
      "source": [
        "### 2D example\n\n"
      ]
    },
    {
      "cell_type": "code",
      "execution_count": null,
      "metadata": {
        "collapsed": false
      },
      "outputs": [],
      "source": [
        "x = StatArray(np.asarray([[0, -2, 3],[3, 0, -1],[1, 2, 0]]))\nprint(x)"
      ]
    },
    {
      "cell_type": "code",
      "execution_count": null,
      "metadata": {
        "collapsed": false
      },
      "outputs": [],
      "source": [
        "print(x.insert(i=0, values=4))"
      ]
    },
    {
      "cell_type": "code",
      "execution_count": null,
      "metadata": {
        "collapsed": false
      },
      "outputs": [],
      "source": [
        "print(x.insert(i=[2, 3], values=5, axis=1))"
      ]
    },
    {
      "cell_type": "code",
      "execution_count": null,
      "metadata": {
        "collapsed": false
      },
      "outputs": [],
      "source": [
        "print(x.insert(i=2, values=[10, 11, 12], axis=1))"
      ]
    },
    {
      "cell_type": "code",
      "execution_count": null,
      "metadata": {
        "collapsed": false
      },
      "outputs": [],
      "source": [
        "print(x.prepend(999))"
      ]
    },
    {
      "cell_type": "code",
      "execution_count": null,
      "metadata": {
        "collapsed": false
      },
      "outputs": [],
      "source": [
        "print(x.prepend([999, 998, 997], axis=1))"
      ]
    },
    {
      "cell_type": "code",
      "execution_count": null,
      "metadata": {
        "collapsed": false
      },
      "outputs": [],
      "source": [
        "print(x.append([[999, 998, 997]]))"
      ]
    },
    {
      "cell_type": "code",
      "execution_count": null,
      "metadata": {
        "collapsed": false
      },
      "outputs": [],
      "source": [
        "print(x.resize([5,5]))"
      ]
    },
    {
      "cell_type": "code",
      "execution_count": null,
      "metadata": {
        "collapsed": false
      },
      "outputs": [],
      "source": [
        "print(x.delete(5))"
      ]
    },
    {
      "cell_type": "code",
      "execution_count": null,
      "metadata": {
        "collapsed": false
      },
      "outputs": [],
      "source": [
        "print(x.delete(2, axis=0))"
      ]
    },
    {
      "cell_type": "code",
      "execution_count": null,
      "metadata": {
        "collapsed": false
      },
      "outputs": [],
      "source": [
        "print(x.firstNonZero(axis=0))"
      ]
    },
    {
      "cell_type": "code",
      "execution_count": null,
      "metadata": {
        "collapsed": false
      },
      "outputs": [],
      "source": [
        "print(x.lastNonZero(axis=0))"
      ]
    },
    {
      "cell_type": "code",
      "execution_count": null,
      "metadata": {
        "collapsed": false
      },
      "outputs": [],
      "source": [
        "print(x.firstNonZero(axis=1))"
      ]
    },
    {
      "cell_type": "code",
      "execution_count": null,
      "metadata": {
        "collapsed": false
      },
      "outputs": [],
      "source": [
        "print(x.lastNonZero(axis=1))"
      ]
    },
    {
      "cell_type": "code",
      "execution_count": null,
      "metadata": {
        "collapsed": false
      },
      "outputs": [],
      "source": [
        "print(x.abs())"
      ]
    },
    {
      "cell_type": "markdown",
      "metadata": {},
      "source": [
        "## Plotting\n\nWe can easily plot the StatArray with its built in plotting functions.\nAll plotting functions can take matplotlib keywords\n\n"
      ]
    },
    {
      "cell_type": "code",
      "execution_count": null,
      "metadata": {
        "collapsed": false
      },
      "outputs": [],
      "source": [
        "# The simplest is to just plot the array\n\nDensity = StatArray(np.random.randn(100),name=\"Density\",units=\"$\\frac{g}{cc}$\")\nTime = StatArray(np.linspace(0, 100, Density.size), name='Time', units='s')\nDepth = StatArray(np.random.exponential(size=Density.size), name='Depth', units='m')"
      ]
    },
    {
      "cell_type": "code",
      "execution_count": null,
      "metadata": {
        "collapsed": false
      },
      "outputs": [],
      "source": [
        "plt.figure()\n_ = Density.plot(linewidth=0.5, marker='x', markersize=1.0)"
      ]
    },
    {
      "cell_type": "markdown",
      "metadata": {},
      "source": [
        "We can quickly plot a bar graph.\n\n"
      ]
    },
    {
      "cell_type": "code",
      "execution_count": null,
      "metadata": {
        "collapsed": false
      },
      "outputs": [],
      "source": [
        "plt.figure()\n_ = Density.bar()"
      ]
    },
    {
      "cell_type": "markdown",
      "metadata": {},
      "source": [
        "We can scatter the contents of the StatArray if it is 1D\n\n"
      ]
    },
    {
      "cell_type": "code",
      "execution_count": null,
      "metadata": {
        "collapsed": false
      },
      "outputs": [],
      "source": [
        "plt.figure()\n_ = Density.scatter(alpha=0.7)"
      ]
    },
    {
      "cell_type": "markdown",
      "metadata": {},
      "source": [
        "### Histogram Equalization\n\nA neat trick with colourmaps is histogram equalization.\nThis approach forces all colours in the images to have an equal weight.\nThis distorts the colour bar, but can really highlight the lower and higher\nends of whatever you are plotting. Just add the equalize keyword!\n\n"
      ]
    },
    {
      "cell_type": "code",
      "execution_count": null,
      "metadata": {
        "collapsed": false
      },
      "outputs": [],
      "source": [
        "plt.figure()\n_ = Density.scatter(alpha=0.7, equalize=True)"
      ]
    },
    {
      "cell_type": "markdown",
      "metadata": {},
      "source": [
        "Take the log base(x) of the data\n\nWe can also take the data to a log, log10, log2, or a custom number!\n\n"
      ]
    },
    {
      "cell_type": "code",
      "execution_count": null,
      "metadata": {
        "collapsed": false
      },
      "outputs": [],
      "source": [
        "plt.figure()\n_ = Density.scatter(alpha=0.7,edgecolor='k',log='e') # could also use log='e', log=2, log=x) where x is the base you require"
      ]
    },
    {
      "cell_type": "markdown",
      "metadata": {},
      "source": [
        "X and Y axes\n\nWe can specify the x axis of the scatter plot.\n\n"
      ]
    },
    {
      "cell_type": "code",
      "execution_count": null,
      "metadata": {
        "collapsed": false
      },
      "outputs": [],
      "source": [
        "plt.figure()\n_ = Density.scatter(x=Time, alpha=0.7, edgecolor='k')"
      ]
    },
    {
      "cell_type": "markdown",
      "metadata": {},
      "source": [
        "Notice that I never specified the y axis, so the y axis defaulted to the values in the StatArray.\nIn this case, any operations applied to the colours, are also applied to the y axis, e.g. log=10.\nWhen I take the values of Density to log base 10, because I do not specify the y plotting locations, those locations are similarly affected.\n\nI can however force the y co-ordinates by specifying it as input.\nIn the second subplot I explicitly plot distance on the y axis.\nIn the first subplot, the y axis is the same as the colourbar.\n\n"
      ]
    },
    {
      "cell_type": "code",
      "execution_count": null,
      "metadata": {
        "collapsed": false
      },
      "outputs": [],
      "source": [
        "plt.figure()\nax1 = plt.subplot(211)\nDensity.scatter(x=Time, alpha=0.7, edgecolor='k', log=10)\nplt.subplot(212, sharex=ax1)\n_ = Density.scatter(x=Time, y=Depth, alpha=0.7, edgecolor='k', log=10)"
      ]
    },
    {
      "cell_type": "markdown",
      "metadata": {},
      "source": [
        "Point sizes\n\nSince the plotting functions take matplotlib keywords, I can also specify the size of each points.\n\n"
      ]
    },
    {
      "cell_type": "code",
      "execution_count": null,
      "metadata": {
        "collapsed": false
      },
      "outputs": [],
      "source": [
        "s = np.ceil(100*(np.abs(np.random.randn(Density.size))))\nplt.figure()\nplt.tight_layout()\nax1 = plt.subplot(211)\nDensity.scatter(x=Time, y=Depth, s=s, alpha=0.7,edgecolor='k', legend_size=2)\nplt.subplot(212, sharex=ax1)\n#Density.scatter(x=Time, y=Depth, s=s, alpha=0.7,edgecolor='k', sizeLegend=[1.0, 100, 200, 300])\nv = np.abs(Density)+1.0\n_ = Density.scatter(x=Time, y=Depth, s=s, alpha=0.7,edgecolor='k', legend_size=[1.0, 100, 200, 300], log=10)"
      ]
    },
    {
      "cell_type": "markdown",
      "metadata": {},
      "source": [
        "Of course we can still take the log, or equalize the colour histogram\n\n"
      ]
    },
    {
      "cell_type": "code",
      "execution_count": null,
      "metadata": {
        "collapsed": false
      },
      "outputs": [],
      "source": [
        "plt.figure()\n_ = Density.scatter(x=Time, y=Depth, s=s, alpha=0.7,edgecolor='k',equalize=True,log=10)"
      ]
    },
    {
      "cell_type": "markdown",
      "metadata": {},
      "source": [
        "Typically pcolor only works with 2D arrays. The StatArray has a pcolor method that will pcolor a 1D array\n\n"
      ]
    },
    {
      "cell_type": "code",
      "execution_count": null,
      "metadata": {
        "collapsed": false
      },
      "outputs": [],
      "source": [
        "plt.figure()\nplt.subplot(221)\nDensity.pcolor()\nplt.subplot(222)\nDensity.pcolor(y=Time)\nplt.subplot(223)\nDensity.pcolor(y=Time, flip=True)\nplt.subplot(224)\n_ = Density.pcolor(y=Time, log=10, equalize=True)"
      ]
    },
    {
      "cell_type": "markdown",
      "metadata": {},
      "source": [
        "We can add grid lines, and add opacity to each element in the pcolor image\n\nThis is useful if the colour values need to be scaled by another variable e.g. variance.\n\n"
      ]
    },
    {
      "cell_type": "code",
      "execution_count": null,
      "metadata": {
        "collapsed": false
      },
      "outputs": [],
      "source": [
        "plt.figure()\nplt.subplot(121)\nDensity.pcolor(grid=True, cmap='jet')\nplt.subplot(122)\na = np.linspace(1.0, 0.0, Density.size)\n_ = Density.pcolor(grid=True, alpha=a, cmap='jet')"
      ]
    },
    {
      "cell_type": "markdown",
      "metadata": {},
      "source": [
        "We can plot a histogram of the StatArray\n\n"
      ]
    },
    {
      "cell_type": "code",
      "execution_count": null,
      "metadata": {
        "collapsed": false
      },
      "outputs": [],
      "source": [
        "plt.figure()\n_ = Density.hist(100)"
      ]
    },
    {
      "cell_type": "markdown",
      "metadata": {},
      "source": [
        "We can write the StatArray to a HDF5 file.  HDF5 files are binary files that can include compression.  They allow quick and easy access to parts of the file, and can also be written to and read from in parallel!\n\n"
      ]
    },
    {
      "cell_type": "code",
      "execution_count": null,
      "metadata": {
        "collapsed": false
      },
      "outputs": [],
      "source": [
        "with h5py.File('1Dtest.h5','w') as f:\n    Density.toHdf(f,'test')"
      ]
    },
    {
      "cell_type": "markdown",
      "metadata": {},
      "source": [
        "We can then read the StatArray from the file\nHere x is a new variable, that is read in from the hdf5 file we just wrote.\n\n"
      ]
    },
    {
      "cell_type": "code",
      "execution_count": null,
      "metadata": {
        "collapsed": false
      },
      "outputs": [],
      "source": [
        "x = StatArray.fromHdf('1Dtest.h5', 'test')\nprint('x has the same values as Density? ',np.all(x == Density))\nx[2] = 5.0 # Change one of the values in x\nprint('x has its own memory allocated (not a reference/pointer)? ', id(x) != id(Density))"
      ]
    },
    {
      "cell_type": "markdown",
      "metadata": {},
      "source": [
        "We can also define a 2D array\n\n"
      ]
    },
    {
      "cell_type": "code",
      "execution_count": null,
      "metadata": {
        "collapsed": false
      },
      "outputs": [],
      "source": [
        "Density = StatArray(np.random.randn(50,100),\"Density\",\"$\\frac{g}{cc}$\")\nDensity.summary"
      ]
    },
    {
      "cell_type": "markdown",
      "metadata": {},
      "source": [
        "The StatArray Class's functions work whether it is 1D or 2D\n\nWe can still do a histogram\n\n"
      ]
    },
    {
      "cell_type": "code",
      "execution_count": null,
      "metadata": {
        "collapsed": false
      },
      "outputs": [],
      "source": [
        "plt.figure()\n_ = Density.hist()"
      ]
    },
    {
      "cell_type": "markdown",
      "metadata": {},
      "source": [
        "And we can use pcolor to plot the 2D array\n\n"
      ]
    },
    {
      "cell_type": "code",
      "execution_count": null,
      "metadata": {
        "collapsed": false
      },
      "outputs": [],
      "source": [
        "plt.figure()\n_ = Density.pcolor()"
      ]
    },
    {
      "cell_type": "markdown",
      "metadata": {},
      "source": [
        "The StatArray comes with extra plotting options\n\nHere we specify the x and y axes for the 2D array using two other 1D StatArrays\n\n"
      ]
    },
    {
      "cell_type": "code",
      "execution_count": null,
      "metadata": {
        "collapsed": false
      },
      "outputs": [],
      "source": [
        "plt.figure()\nx = StatArray(np.arange(101),name='x Axis',units = 'mm')\ny = StatArray(np.arange(51),name='y Axis',units = 'elephants')\n_ = Density.pcolor(x=x, y=y)"
      ]
    },
    {
      "cell_type": "markdown",
      "metadata": {},
      "source": [
        "We can plot using a log10 scale, in this case, we have values that are less\nthan or equal to 0.0.  Plotting with the log option will by default mask any\nof those values, and will let you know that it has done so!\n\n"
      ]
    },
    {
      "cell_type": "code",
      "execution_count": null,
      "metadata": {
        "collapsed": false
      },
      "outputs": [],
      "source": [
        "plt.figure()\n_ = Density.pcolor(x=x,y=y,log=2)"
      ]
    },
    {
      "cell_type": "markdown",
      "metadata": {},
      "source": [
        "A neat trick with colourmaps is histogram equalization.\nThis approach forces all colours in the image to have an equal amount.\nThis distorts the colours, but can really highlight the lower and higher\nends of whatever you are plotting\n\n"
      ]
    },
    {
      "cell_type": "code",
      "execution_count": null,
      "metadata": {
        "collapsed": false
      },
      "outputs": [],
      "source": [
        "plt.figure()\n_ = Density.pcolor(x=x, y=y, equalize=True)"
      ]
    },
    {
      "cell_type": "markdown",
      "metadata": {},
      "source": [
        "We can equalize the log10 plot too :)\n\n"
      ]
    },
    {
      "cell_type": "code",
      "execution_count": null,
      "metadata": {
        "collapsed": false
      },
      "outputs": [],
      "source": [
        "plt.figure()\n_ = Density.pcolor(x=x,y=y,equalize=True, log=10)"
      ]
    },
    {
      "cell_type": "markdown",
      "metadata": {},
      "source": [
        "We can add opacity to each pixel in the image\n\n"
      ]
    },
    {
      "cell_type": "code",
      "execution_count": null,
      "metadata": {
        "collapsed": false
      },
      "outputs": [],
      "source": [
        "a = StatArray(np.random.random(Density.shape), 'Opacity from 0.0 to 1.0')"
      ]
    },
    {
      "cell_type": "code",
      "execution_count": null,
      "metadata": {
        "collapsed": false
      },
      "outputs": [],
      "source": [
        "plt.figure()\nax1 = plt.subplot(131)\nax = Density.pcolor(x=x, y=y, flipY=True, linewidth=0.1, colorbar=False)\nplt.subplot(132, sharex=ax1, sharey=ax1)\nax = Density.pcolor(x=x, y=y, alpha=a, flipY=True, linewidth=0.1, colorbar=False)\nplt.subplot(133, sharex=ax1, sharey=ax1)\n_ = a.pcolor(x=x, y=y, flipY=True)"
      ]
    },
    {
      "cell_type": "markdown",
      "metadata": {},
      "source": [
        "If the array potentially has a lot of white space around the edges, we can trim the image\n\n"
      ]
    },
    {
      "cell_type": "code",
      "execution_count": null,
      "metadata": {
        "collapsed": false
      },
      "outputs": [],
      "source": [
        "Density[:10, :] = 0.0\nDensity[-10:, :] = 0.0\nDensity[:, :10] = 0.0\nDensity[:, -10:] = 0.0\nplt.figure()\nplt.subplot(121)\nDensity.pcolor()\nplt.subplot(122)\n_ = Density.pcolor(trim=0.0)"
      ]
    },
    {
      "cell_type": "markdown",
      "metadata": {},
      "source": [
        "Create a stacked area plot of a 2D StatArray\n\n"
      ]
    },
    {
      "cell_type": "code",
      "execution_count": null,
      "metadata": {
        "collapsed": false
      },
      "outputs": [],
      "source": [
        "A = StatArray(np.abs(np.random.randn(13,100)), name='Variable', units=\"units\")\nx = StatArray(np.arange(100),name='x Axis',units = 'mm')\nplt.figure()\nax1 = plt.subplot(211)\nA.stackedAreaPlot(x=x, axis=1)\nplt.subplot(212, sharex=ax1)\n_ = A.stackedAreaPlot(x=x, i=np.s_[[1,3,4],:], axis=1, labels=['a','b','c'])\n\nplt.show()"
      ]
    }
  ],
  "metadata": {
    "kernelspec": {
      "display_name": "Python 3",
      "language": "python",
      "name": "python3"
    },
    "language_info": {
      "codemirror_mode": {
        "name": "ipython",
        "version": 3
      },
      "file_extension": ".py",
      "mimetype": "text/x-python",
      "name": "python",
      "nbconvert_exporter": "python",
      "pygments_lexer": "ipython3",
      "version": "3.12.3"
    }
  },
  "nbformat": 4,
  "nbformat_minor": 0
}