{
  "cells": [
    {
      "cell_type": "code",
      "execution_count": null,
      "metadata": {
        "collapsed": false
      },
      "outputs": [],
      "source": [
        "%matplotlib inline"
      ]
    },
    {
      "cell_type": "markdown",
      "metadata": {},
      "source": [
        "\n# Histogram 1D\n\nThis histogram class allows efficient updating of histograms, plotting and\nsaving as HDF5\n"
      ]
    },
    {
      "cell_type": "code",
      "execution_count": null,
      "metadata": {
        "collapsed": false
      },
      "outputs": [],
      "source": [
        "from geobipy.src.classes.mesh.RectilinearMesh1D import RectilinearMesh1D\nimport h5py\nfrom geobipy import StatArray\nfrom geobipy import Histogram\nimport numpy as np\nimport matplotlib.pyplot as plt"
      ]
    },
    {
      "cell_type": "markdown",
      "metadata": {},
      "source": [
        "## Histogram with regular bins\n\n"
      ]
    },
    {
      "cell_type": "code",
      "execution_count": null,
      "metadata": {
        "collapsed": false
      },
      "outputs": [],
      "source": [
        "# Create regularly spaced bins\nmesh = RectilinearMesh1D(edges=StatArray(np.linspace(-3.0, 3.0, 101), 'bins', 'm'))"
      ]
    },
    {
      "cell_type": "markdown",
      "metadata": {},
      "source": [
        "Set the histogram using the bins, and update\n\n"
      ]
    },
    {
      "cell_type": "code",
      "execution_count": null,
      "metadata": {
        "collapsed": false
      },
      "outputs": [],
      "source": [
        "H = Histogram(mesh=mesh)"
      ]
    },
    {
      "cell_type": "markdown",
      "metadata": {},
      "source": [
        "We can update the histogram with some new values\n\n"
      ]
    },
    {
      "cell_type": "code",
      "execution_count": null,
      "metadata": {
        "collapsed": false
      },
      "outputs": [],
      "source": [
        "H.update(np.random.randn(1000), trim=True)\n\n# Plot the histogram\nplt.figure()\nplt.subplot(221)\n_ = H.plot()\nplt.subplot(222)\n_ = H.pdf.bar()\nplt.subplot(223)\nH.pmf.bar()\nplt.subplot(224)\nH.cdf().bar()"
      ]
    },
    {
      "cell_type": "markdown",
      "metadata": {},
      "source": [
        "Get the median, and 95% confidence values\n\n"
      ]
    },
    {
      "cell_type": "code",
      "execution_count": null,
      "metadata": {
        "collapsed": false
      },
      "outputs": [],
      "source": [
        "print(H.credible_intervals(percent=95.0))\n\nplt.figure()\nH.plot()\nH.plotCredibleIntervals()\nH.plotMean()\nH.plotMedian()"
      ]
    },
    {
      "cell_type": "markdown",
      "metadata": {},
      "source": [
        "## Histogram with irregular bins\n\n"
      ]
    },
    {
      "cell_type": "code",
      "execution_count": null,
      "metadata": {
        "collapsed": false
      },
      "outputs": [],
      "source": [
        "# Create irregularly spaced bins\nx = np.cumsum(np.arange(10, dtype=np.float64))\nirregularBins = np.hstack([-x[::-1], x[1:]])"
      ]
    },
    {
      "cell_type": "markdown",
      "metadata": {},
      "source": [
        "Create a named StatArray\n\n"
      ]
    },
    {
      "cell_type": "code",
      "execution_count": null,
      "metadata": {
        "collapsed": false
      },
      "outputs": [],
      "source": [
        "edges = StatArray(irregularBins, 'irregular bins')\nmesh = RectilinearMesh1D(edges = edges)"
      ]
    },
    {
      "cell_type": "markdown",
      "metadata": {},
      "source": [
        "Instantiate the histogram with bin edges\n\n"
      ]
    },
    {
      "cell_type": "code",
      "execution_count": null,
      "metadata": {
        "collapsed": false
      },
      "outputs": [],
      "source": [
        "H = Histogram(mesh=mesh)\n\n# Update the histogram\nH.update((np.random.randn(10000)*20.0) - 10.0)"
      ]
    },
    {
      "cell_type": "markdown",
      "metadata": {},
      "source": [
        "Plot the histogram\n\n"
      ]
    },
    {
      "cell_type": "code",
      "execution_count": null,
      "metadata": {
        "collapsed": false
      },
      "outputs": [],
      "source": [
        "plt.figure()\nplt.subplot(211)\n_ = H.plot()\nplt.subplot(212)\n_ = H.plot(normalize=True)\n\nplt.figure()\nH.plot()\nH.plotCredibleIntervals()\nH.plotMean()\nH.plotMedian()"
      ]
    },
    {
      "cell_type": "markdown",
      "metadata": {},
      "source": [
        "We can plot the histogram as a pcolor plot\n\n"
      ]
    },
    {
      "cell_type": "code",
      "execution_count": null,
      "metadata": {
        "collapsed": false
      },
      "outputs": [],
      "source": [
        "plt.figure()\n_ = H.pcolor(grid=True, transpose=True)"
      ]
    },
    {
      "cell_type": "markdown",
      "metadata": {},
      "source": [
        "## Histogram with linear space entries that are logged internally\nCreate some bins spaced logarithmically\n\n"
      ]
    },
    {
      "cell_type": "code",
      "execution_count": null,
      "metadata": {
        "collapsed": false
      },
      "outputs": [],
      "source": [
        "mesh = RectilinearMesh1D(edges = StatArray(np.logspace(-5, 3), 'positive bins'), log=10)"
      ]
    },
    {
      "cell_type": "markdown",
      "metadata": {},
      "source": [
        "Instantiate the Histogram with log=10\n\n"
      ]
    },
    {
      "cell_type": "code",
      "execution_count": null,
      "metadata": {
        "collapsed": false
      },
      "outputs": [],
      "source": [
        "H = Histogram(mesh)"
      ]
    },
    {
      "cell_type": "markdown",
      "metadata": {},
      "source": [
        "The update takes in the numbers in linear space and takes their log=10\n\n"
      ]
    },
    {
      "cell_type": "code",
      "execution_count": null,
      "metadata": {
        "collapsed": false
      },
      "outputs": [],
      "source": [
        "H.update(10.0**(np.random.randn(1000)*2.0), trim=True)"
      ]
    },
    {
      "cell_type": "code",
      "execution_count": null,
      "metadata": {
        "collapsed": false
      },
      "outputs": [],
      "source": [
        "plt.figure()\nplt.subplot(211)\n_ = H.plot()\n\nimport h5py\nwith h5py.File('h1d.h5', 'w') as f:\n    H.toHdf(f, 'h1d')\n\nwith h5py.File('h1d.h5', 'r') as f:\n    H1 = Histogram.fromHdf(f['h1d'])\n\nplt.subplot(212)\n_ = H1.plot()"
      ]
    },
    {
      "cell_type": "code",
      "execution_count": null,
      "metadata": {
        "collapsed": false
      },
      "outputs": [],
      "source": [
        "mesh = RectilinearMesh1D(edges=StatArray(np.linspace(-3.0, 3.0, 101), 'bins', 'm'))"
      ]
    },
    {
      "cell_type": "markdown",
      "metadata": {},
      "source": [
        "Set the histogram using the bins, and update\n\n"
      ]
    },
    {
      "cell_type": "code",
      "execution_count": null,
      "metadata": {
        "collapsed": false
      },
      "outputs": [],
      "source": [
        "H = Histogram(mesh=mesh)"
      ]
    },
    {
      "cell_type": "markdown",
      "metadata": {},
      "source": [
        "We can update the histogram with some new values\n\n"
      ]
    },
    {
      "cell_type": "code",
      "execution_count": null,
      "metadata": {
        "collapsed": false
      },
      "outputs": [],
      "source": [
        "H.update(np.random.randn(1000), trim=True)\n\nimport h5py\nwith h5py.File('h1d.h5', 'w') as f:\n    H.createHdf(f, 'h1d', add_axis=StatArray(np.arange(3.0), \"Name\", \"Units\"))\n    H.writeHdf(f, 'h1d', index=0)\n    H.update(np.random.randn(1000), trim=True)\n    H.writeHdf(f, 'h1d', index=1)\n    H.update(np.random.randn(1000), trim=True)\n    H.writeHdf(f, 'h1d', index=2)\n\nwith h5py.File('h1d.h5', 'r') as f:\n    H1 = Histogram.fromHdf(f['h1d'])\n    H2 = Histogram.fromHdf(f['h1d'], index=0)\n    H3 = Histogram.fromHdf(f['h1d'], index=1)\n    H4 = Histogram.fromHdf(f['h1d'], index=2)\n\n\nprint(H4.summary)\n\n# plt.figure()\n# plt.subplot(211)\n# _ = H1.plot()\n# plt.subplot(212)\n# _ = H4.plot()\n\nplt.show()"
      ]
    }
  ],
  "metadata": {
    "kernelspec": {
      "display_name": "Python 3",
      "language": "python",
      "name": "python3"
    },
    "language_info": {
      "codemirror_mode": {
        "name": "ipython",
        "version": 3
      },
      "file_extension": ".py",
      "mimetype": "text/x-python",
      "name": "python",
      "nbconvert_exporter": "python",
      "pygments_lexer": "ipython3",
      "version": "3.10.12"
    }
  },
  "nbformat": 4,
  "nbformat_minor": 0
}