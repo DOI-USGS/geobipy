{
  "cells": [
    {
      "cell_type": "code",
      "execution_count": null,
      "metadata": {
        "collapsed": false
      },
      "outputs": [],
      "source": [
        "%matplotlib inline"
      ]
    },
    {
      "cell_type": "markdown",
      "metadata": {},
      "source": [
        "\n# Histogram 3D\n\nThis 3D histogram class allows efficient updating of histograms, plotting and\nsaving as HDF5.\n"
      ]
    },
    {
      "cell_type": "code",
      "execution_count": null,
      "metadata": {
        "collapsed": false
      },
      "outputs": [],
      "source": [
        "import geobipy\nfrom geobipy import StatArray\nfrom geobipy import Histogram\nimport matplotlib.pyplot as plt\nfrom geobipy import RectilinearMesh3D\nimport numpy as np"
      ]
    },
    {
      "cell_type": "markdown",
      "metadata": {},
      "source": [
        "Create some histogram bins in x and y\n\n"
      ]
    },
    {
      "cell_type": "code",
      "execution_count": null,
      "metadata": {
        "collapsed": false
      },
      "outputs": [],
      "source": [
        "x = StatArray(np.linspace(-4.0, 4.0, 11), 'Variable 1')\ny = StatArray(np.linspace(-4.0, 4.0, 21), 'Variable 2')\nz = StatArray(np.linspace(-4.0, 4.0, 31), 'Variable 3')\n\nmesh = RectilinearMesh3D(x_edges=x, y_edges=y, z_edges=z)"
      ]
    },
    {
      "cell_type": "markdown",
      "metadata": {},
      "source": [
        "Instantiate\n\n"
      ]
    },
    {
      "cell_type": "code",
      "execution_count": null,
      "metadata": {
        "collapsed": false
      },
      "outputs": [],
      "source": [
        "H = Histogram(mesh=mesh)"
      ]
    },
    {
      "cell_type": "markdown",
      "metadata": {},
      "source": [
        "Generate some random numbers\n\n"
      ]
    },
    {
      "cell_type": "code",
      "execution_count": null,
      "metadata": {
        "collapsed": false
      },
      "outputs": [],
      "source": [
        "a = np.random.randn(100000)\nb = np.random.randn(100000)\nc = np.random.randn(100000)\n# x = np.asarray([a, b, c])"
      ]
    },
    {
      "cell_type": "markdown",
      "metadata": {},
      "source": [
        "Update the histogram counts\n\n"
      ]
    },
    {
      "cell_type": "code",
      "execution_count": null,
      "metadata": {
        "collapsed": false
      },
      "outputs": [],
      "source": [
        "H.update(a, b, c)"
      ]
    },
    {
      "cell_type": "code",
      "execution_count": null,
      "metadata": {
        "collapsed": false
      },
      "outputs": [],
      "source": [
        "plt.figure()\nplt.suptitle(\"Slice half way along each dimension\")\nfor axis in range(3):\n    plt.subplot(1, 3, axis+1)\n    s = [5 if i  == axis else np.s_[:] for i in range(3)]\n    _ = H[tuple(s)].pcolor(cmap='gray_r')"
      ]
    },
    {
      "cell_type": "markdown",
      "metadata": {},
      "source": [
        "Generate marginal histograms along an axis\n\n"
      ]
    },
    {
      "cell_type": "code",
      "execution_count": null,
      "metadata": {
        "collapsed": false
      },
      "outputs": [],
      "source": [
        "plt.figure()\nplt.suptitle(\"Marginals along each axis\")\nfor axis in range(3):\n    plt.subplot(1, 3, axis+1)\n    _ = H.marginalize(axis=axis).plot()"
      ]
    },
    {
      "cell_type": "markdown",
      "metadata": {},
      "source": [
        "Take the mean estimate from the histogram\n\n"
      ]
    },
    {
      "cell_type": "code",
      "execution_count": null,
      "metadata": {
        "collapsed": false
      },
      "outputs": [],
      "source": [
        "plt.figure()\nplt.suptitle(\"Mean along each axis\")\nfor axis in range(3):\n    plt.subplot(1, 3, axis+1)\n    _ = H.mean(axis=axis).pcolor()"
      ]
    },
    {
      "cell_type": "markdown",
      "metadata": {},
      "source": [
        "Take the median estimate from the histogram\n\n"
      ]
    },
    {
      "cell_type": "code",
      "execution_count": null,
      "metadata": {
        "collapsed": false
      },
      "outputs": [],
      "source": [
        "plt.figure()\nplt.suptitle(\"Median along each axis\")\nfor axis in range(3):\n    plt.subplot(1, 3, axis+1)\n    _ = H.median(axis=axis).pcolor()\n\n# #%%\n# # We can map the credible range to an opacity or transparency\n# H.opacity()\n# H.transparency()\n\nH.animate(0, 'test.mp4')\n\nH.to_vtk('h3d.vtk')\n\n\n\n\n# Create some histogram bins in x and y\nxx, yy = np.meshgrid(mesh.z.centres, mesh.y.centres)\nx_re = StatArray(np.sin(np.sqrt(xx ** 2.0 + yy ** 2.0)), \"x_re\")\n\nxx, yy = np.meshgrid(mesh.z.centres, mesh.x.centres)\ny_re = StatArray(np.sin(np.sqrt(xx ** 2.0 + yy ** 2.0)), \"y_re\")\n\nxx, yy = np.meshgrid(mesh.y.centres, mesh.x.centres)\nz_re = StatArray(np.sin(np.sqrt(xx ** 2.0 + yy ** 2.0)), \"z_re\")\n\nmesh = RectilinearMesh3D(x_edges=x, x_relative_to=x_re, y_edges=y, y_relative_to=y_re, z_edges=z, z_relative_to=z_re)"
      ]
    },
    {
      "cell_type": "markdown",
      "metadata": {},
      "source": [
        "Instantiate\n\n"
      ]
    },
    {
      "cell_type": "code",
      "execution_count": null,
      "metadata": {
        "collapsed": false
      },
      "outputs": [],
      "source": [
        "H = Histogram(mesh=mesh)"
      ]
    },
    {
      "cell_type": "markdown",
      "metadata": {},
      "source": [
        "Generate some random numbers\n\n"
      ]
    },
    {
      "cell_type": "code",
      "execution_count": null,
      "metadata": {
        "collapsed": false
      },
      "outputs": [],
      "source": [
        "a = np.random.randn(100000)\nb = np.random.randn(100000)\nc = np.random.randn(100000)\n# x = np.asarray([a, b, c])"
      ]
    },
    {
      "cell_type": "markdown",
      "metadata": {},
      "source": [
        "Update the histogram counts\n\n"
      ]
    },
    {
      "cell_type": "code",
      "execution_count": null,
      "metadata": {
        "collapsed": false
      },
      "outputs": [],
      "source": [
        "H.update(a, b, c)"
      ]
    },
    {
      "cell_type": "code",
      "execution_count": null,
      "metadata": {
        "collapsed": false
      },
      "outputs": [],
      "source": [
        "plt.figure()\nplt.suptitle(\"Slice half way along each dimension\")\nfor axis in range(3):\n    plt.subplot(1, 3, axis+1)\n    s = [5 if i  == axis else np.s_[:] for i in range(3)]\n    _ = H[tuple(s)].pcolor(cmap='gray_r')"
      ]
    },
    {
      "cell_type": "markdown",
      "metadata": {},
      "source": [
        "Generate marginal histograms along an axis\n\n"
      ]
    },
    {
      "cell_type": "code",
      "execution_count": null,
      "metadata": {
        "collapsed": false
      },
      "outputs": [],
      "source": [
        "plt.figure()\nplt.suptitle(\"Marginals along each axis\")\nfor axis in range(3):\n    plt.subplot(1, 3, axis+1)\n    _ = H.marginalize(axis=axis).plot()"
      ]
    },
    {
      "cell_type": "markdown",
      "metadata": {},
      "source": [
        "Take the mean estimate from the histogram\n\n"
      ]
    },
    {
      "cell_type": "code",
      "execution_count": null,
      "metadata": {
        "collapsed": false
      },
      "outputs": [],
      "source": [
        "plt.figure()\nplt.suptitle(\"Mean along each axis\")\nfor axis in range(3):\n    plt.subplot(1, 3, axis+1)\n    _ = H.mean(axis=axis).pcolor()"
      ]
    },
    {
      "cell_type": "markdown",
      "metadata": {},
      "source": [
        "Take the median estimate from the histogram\n\n"
      ]
    },
    {
      "cell_type": "code",
      "execution_count": null,
      "metadata": {
        "collapsed": false
      },
      "outputs": [],
      "source": [
        "plt.figure()\nplt.suptitle(\"Median along each axis\")\nfor axis in range(3):\n    plt.subplot(1, 3, axis+1)\n    _ = H.median(axis=axis).pcolor()\n\n# #%%\n# # We can map the credible range to an opacity or transparency\n# H.opacity()\n# H.transparency()\n\nH.animate(0, 'test.mp4')\n\nplt.show()\n\nH.to_vtk('h3d.vtk')"
      ]
    }
  ],
  "metadata": {
    "kernelspec": {
      "display_name": "Python 3",
      "language": "python",
      "name": "python3"
    },
    "language_info": {
      "codemirror_mode": {
        "name": "ipython",
        "version": 3
      },
      "file_extension": ".py",
      "mimetype": "text/x-python",
      "name": "python",
      "nbconvert_exporter": "python",
      "pygments_lexer": "ipython3",
      "version": "3.12.3"
    }
  },
  "nbformat": 4,
  "nbformat_minor": 0
}