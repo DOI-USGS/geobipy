{
  "cells": [
    {
      "cell_type": "code",
      "execution_count": null,
      "metadata": {
        "collapsed": false
      },
      "outputs": [],
      "source": [
        "%matplotlib inline"
      ]
    },
    {
      "cell_type": "markdown",
      "metadata": {},
      "source": [
        "\n# 2D Rectilinear Mesh\nThis 2D rectilinear mesh defines a grid with straight cell boundaries.\n\nIt can be instantiated in two ways.\n\nThe first is by providing the cell centres or\ncell edges in two dimensions.\n\nThe second embeds the 2D mesh in 3D by providing the cell centres or edges in three dimensions.\nThe first two dimensions specify the mesh coordinates in the horiztontal cartesian plane\nwhile the third discretizes in depth. This allows us to characterize a mesh whose horizontal coordinates\ndo not follow a line that is parallel to either the \"x\" or \"y\" axis.\n"
      ]
    },
    {
      "cell_type": "code",
      "execution_count": null,
      "metadata": {
        "collapsed": false
      },
      "outputs": [],
      "source": [
        "import h5py\nfrom geobipy import StatArray\nfrom geobipy import RectilinearMesh1D, RectilinearMesh2D, RectilinearMesh3D\nimport matplotlib.pyplot as plt\nimport numpy as np"
      ]
    },
    {
      "cell_type": "markdown",
      "metadata": {},
      "source": [
        "Specify some cell centres in x and y\n\n"
      ]
    },
    {
      "cell_type": "code",
      "execution_count": null,
      "metadata": {
        "collapsed": false
      },
      "outputs": [],
      "source": [
        "x = StatArray(np.arange(10.0), 'Easting', 'm')\ny = StatArray(np.arange(20.0), 'Depth', 'm')\nrm = RectilinearMesh2D(x_centres=x, y_centres=y)"
      ]
    },
    {
      "cell_type": "markdown",
      "metadata": {},
      "source": [
        "We can plot the grid lines of the mesh.\n\n"
      ]
    },
    {
      "cell_type": "code",
      "execution_count": null,
      "metadata": {
        "collapsed": false
      },
      "outputs": [],
      "source": [
        "p=0;\nplt.figure(p)\n_  = rm.plot_grid(flipY=True, linewidth=0.5)\n\n# Intersecting multisegment lines with a mesh\narr = np.zeros(rm.shape)\ni = rm.line_indices([0.0, 3.0, 6.0, 9], [2.0, 6.0, 0.0, 10])\narr[i[:, 0], i[:, 1]] = 1\np += 1; plt.figure(p)\nrm.pcolor(values = arr)"
      ]
    },
    {
      "cell_type": "markdown",
      "metadata": {},
      "source": [
        "We can pcolor the mesh by providing cell values.\n\n"
      ]
    },
    {
      "cell_type": "code",
      "execution_count": null,
      "metadata": {
        "collapsed": false
      },
      "outputs": [],
      "source": [
        "xx, yy = np.meshgrid(rm.y.centres, rm.x.centres)\narr = StatArray(np.sin(np.sqrt(xx ** 2.0 + yy ** 2.0)), \"Values\")\n\nrm2, values2 = rm.resample(0.5, 0.5, arr, method='linear')\n\n\np += 1; plt.figure(p)\n_ = rm.pcolor(arr, grid=True, flipY=True, linewidth=0.5)"
      ]
    },
    {
      "cell_type": "markdown",
      "metadata": {},
      "source": [
        "Mask the x axis cells by a distance\n\n"
      ]
    },
    {
      "cell_type": "code",
      "execution_count": null,
      "metadata": {
        "collapsed": false
      },
      "outputs": [],
      "source": [
        "rm_masked, x_indices, z_indices, arr2 = rm.mask_cells(x_distance=0.4, values=arr)\np += 1; plt.figure(p)\n_ = rm_masked.pcolor(StatArray(arr2), grid=True, flipY=True)"
      ]
    },
    {
      "cell_type": "markdown",
      "metadata": {},
      "source": [
        "Mask the z axis cells by a distance\n\n"
      ]
    },
    {
      "cell_type": "code",
      "execution_count": null,
      "metadata": {
        "collapsed": false
      },
      "outputs": [],
      "source": [
        "rm_masked, x_indices, z_indices, arr2 = rm.mask_cells(y_distance=0.2, values=arr)\np += 1; plt.figure(p)\n_ = rm_masked.pcolor(StatArray(arr2), grid=True, flipY=True)"
      ]
    },
    {
      "cell_type": "markdown",
      "metadata": {},
      "source": [
        "Mask axes by a distance\n\n"
      ]
    },
    {
      "cell_type": "code",
      "execution_count": null,
      "metadata": {
        "collapsed": false
      },
      "outputs": [],
      "source": [
        "rm_masked, x_indices, z_indices, arr2 = rm.mask_cells(x_distance=0.4, y_distance=0.2, values=arr)\np += 1; plt.figure(p)\n_ = rm_masked.pcolor(StatArray(arr2), grid=True, flipY=True)\n\nx = StatArray(np.arange(10.0), 'Easting', 'm')\ny = StatArray(np.cumsum(np.arange(15.0)), 'Depth', 'm')\nrm = RectilinearMesh2D(x_centres=x, y_centres=y)"
      ]
    },
    {
      "cell_type": "markdown",
      "metadata": {},
      "source": [
        "We can perform some interval statistics on the cell values of the mesh\nGenerate some values\n\n"
      ]
    },
    {
      "cell_type": "code",
      "execution_count": null,
      "metadata": {
        "collapsed": false
      },
      "outputs": [],
      "source": [
        "a = np.repeat(np.arange(1.0, np.float64(rm.x.nCells+1))[:, np.newaxis], rm.y.nCells, 1)"
      ]
    },
    {
      "cell_type": "markdown",
      "metadata": {},
      "source": [
        "Compute the mean over an interval for the mesh.\n\n"
      ]
    },
    {
      "cell_type": "code",
      "execution_count": null,
      "metadata": {
        "collapsed": false
      },
      "outputs": [],
      "source": [
        "rm.intervalStatistic(a, intervals=[6.8, 12.4], axis=0, statistic='mean')"
      ]
    },
    {
      "cell_type": "markdown",
      "metadata": {},
      "source": [
        "Compute the mean over multiple intervals for the mesh.\n\n"
      ]
    },
    {
      "cell_type": "code",
      "execution_count": null,
      "metadata": {
        "collapsed": false
      },
      "outputs": [],
      "source": [
        "rm.intervalStatistic(a, intervals=[6.8, 12.4, 20.0, 40.0], axis=0, statistic='mean')"
      ]
    },
    {
      "cell_type": "markdown",
      "metadata": {},
      "source": [
        "We can specify either axis\n\n"
      ]
    },
    {
      "cell_type": "code",
      "execution_count": null,
      "metadata": {
        "collapsed": false
      },
      "outputs": [],
      "source": [
        "rm.intervalStatistic(a, intervals=[2.8, 4.2], axis=1, statistic='mean')"
      ]
    },
    {
      "cell_type": "code",
      "execution_count": null,
      "metadata": {
        "collapsed": false
      },
      "outputs": [],
      "source": [
        "rm.intervalStatistic(a, intervals=[2.8, 4.2, 5.1, 8.4], axis=1, statistic='mean')"
      ]
    },
    {
      "cell_type": "markdown",
      "metadata": {},
      "source": [
        "Slice the 2D mesh to retrieve either a 2D mesh or 1D mesh\n\n"
      ]
    },
    {
      "cell_type": "code",
      "execution_count": null,
      "metadata": {
        "collapsed": false
      },
      "outputs": [],
      "source": [
        "rm2 = rm[:5, :5]\nrm3 = rm[:5, 5]\nrm4 = rm[5, :5]\n\np += 1; plt.figure(p)\nplt.subplot(131)\nrm2.plot_grid()\nplt.subplot(132)\nrm3.plot_grid()\nplt.subplot(133)\nrm4.plot_grid(transpose=True)"
      ]
    },
    {
      "cell_type": "markdown",
      "metadata": {},
      "source": [
        "Resample a grid\n\n"
      ]
    },
    {
      "cell_type": "code",
      "execution_count": null,
      "metadata": {
        "collapsed": false
      },
      "outputs": [],
      "source": [
        "values = StatArray(np.random.randn(*rm.shape))\nrm2, values2 = rm.resample(0.5, 0.5, values)\n\np += 1; plt.figure(p)\nplt.subplot(121)\nrm.pcolor(values)\nplt.subplot(122)\nrm2.pcolor(values2)"
      ]
    },
    {
      "cell_type": "markdown",
      "metadata": {},
      "source": [
        "## Axes in log space\n\n"
      ]
    },
    {
      "cell_type": "code",
      "execution_count": null,
      "metadata": {
        "collapsed": false
      },
      "outputs": [],
      "source": [
        "x = StatArray(np.logspace(-1, 4, 10), 'x')\ny = StatArray(np.logspace(0, 3, 10), 'y')\nrm = RectilinearMesh2D(x_edges=x, x_log=10, y_edges=y, y_log=10)\n\n# We can plot the grid lines of the mesh.\np += 1; plt.figure(p)\n_  = rm.plot_grid(linewidth=0.5)"
      ]
    },
    {
      "cell_type": "code",
      "execution_count": null,
      "metadata": {
        "collapsed": false
      },
      "outputs": [],
      "source": [
        "with h5py.File('rm2d.h5', 'w') as f:\n    rm.toHdf(f, 'test')\n\nwith h5py.File('rm2d.h5', 'r') as f:\n    rm2 = RectilinearMesh2D.fromHdf(f['test'])\n\narr = np.random.randn(*rm.shape)\np += 1; plt.figure(p)\nplt.subplot(211)\nrm.pcolor(arr)\nplt.subplot(212)\nrm2.pcolor(arr)"
      ]
    },
    {
      "cell_type": "markdown",
      "metadata": {},
      "source": [
        "## relative_to\n\n"
      ]
    },
    {
      "cell_type": "code",
      "execution_count": null,
      "metadata": {
        "collapsed": false
      },
      "outputs": [],
      "source": [
        "x = StatArray(np.arange(10.0), 'Northing', 'm')\ny = StatArray(np.arange(20.0), 'Depth', 'm')\n\nrm = RectilinearMesh2D(x_centres=x, y_centres=y)\n\np += 1; plt.figure(p)\nplt.subplot(121)\n_  = rm.plot_grid(linewidth=0.5, flipY=True)\nrm = RectilinearMesh2D(x_centres=x, x_relative_to=0.2*np.random.randn(y.size), y_centres=y, y_relative_to=0.2*np.random.randn(x.size))\nplt.subplot(122)\n_  = rm.plot_grid(linewidth=0.5, flipY=True)\n\n# relative_to single\nwith h5py.File('rm2d.h5', 'w') as f:\n    rm.toHdf(f, 'test')\n\nwith h5py.File('rm2d.h5', 'r') as f:\n    rm2 = RectilinearMesh2D.fromHdf(f['test'])\n\narr = np.random.randn(*rm.shape)\np += 1; plt.figure(p)\nplt.subplot(211)\nrm.pcolor(arr, flipY=True)\nplt.subplot(212)\nrm2.pcolor(arr, flipY=True)\n\n# relative_to expanded\nwith h5py.File('rm2d.h5', 'w') as f:\n    rm.createHdf(f, 'test', add_axis=RectilinearMesh1D(centres=StatArray(np.arange(3.0), name='Easting', units=\"m\"), relative_to = 0.2*np.random.randn(x.size, y.size)))\n    for i in range(3):\n        rm.x.relative_to += 0.5\n        rm.y.relative_to += 0.5\n        rm.writeHdf(f, 'test', index=i)\n\nwith h5py.File('rm2d.h5', 'r') as f:\n    rm2 = RectilinearMesh2D.fromHdf(f['test'], index=0)\n\nwith h5py.File('rm2d.h5', 'r') as f:\n    rm3 = RectilinearMesh3D.fromHdf(f['test'])\n\np += 1; plt.figure(p)\nplt.subplot(311)\nrm.pcolor(arr, flipY=True)\nplt.subplot(312)\nrm2.pcolor(arr, flipY=True)\n\np += 1; plt.figure(p)\narr = np.random.randn(*rm3.shape)\nplt.subplot(311)\nmesh = rm3[0, :, :]\nmesh.pcolor(arr[0, :, :], flipY=True)\nplt.subplot(312)\nmesh = rm3[:, 0, :]\nmesh.pcolor(arr[:, 0, :], flipY=True)\nplt.subplot(313)\nrm3[:, :, 0].pcolor(arr[:, :, 0])\n\nplt.show()"
      ]
    }
  ],
  "metadata": {
    "kernelspec": {
      "display_name": "Python 3",
      "language": "python",
      "name": "python3"
    },
    "language_info": {
      "codemirror_mode": {
        "name": "ipython",
        "version": 3
      },
      "file_extension": ".py",
      "mimetype": "text/x-python",
      "name": "python",
      "nbconvert_exporter": "python",
      "pygments_lexer": "ipython3",
      "version": "3.12.6"
    }
  },
  "nbformat": 4,
  "nbformat_minor": 0
}