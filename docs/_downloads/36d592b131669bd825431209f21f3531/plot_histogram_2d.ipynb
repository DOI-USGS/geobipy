{
  "cells": [
    {
      "cell_type": "code",
      "execution_count": null,
      "metadata": {
        "collapsed": false
      },
      "outputs": [],
      "source": [
        "%matplotlib inline"
      ]
    },
    {
      "cell_type": "markdown",
      "metadata": {},
      "source": [
        "\n# Histogram 2D\n\nThis 2D histogram class allows efficient updating of histograms, plotting and\nsaving as HDF5.\n"
      ]
    },
    {
      "cell_type": "code",
      "execution_count": null,
      "metadata": {
        "collapsed": false
      },
      "outputs": [],
      "source": [
        "import h5py\nimport geobipy\nfrom geobipy import StatArray\nfrom geobipy import Histogram\nimport matplotlib.pyplot as plt\nimport matplotlib.gridspec as gridspec\nfrom geobipy import RectilinearMesh2D\nimport numpy as np"
      ]
    },
    {
      "cell_type": "markdown",
      "metadata": {},
      "source": [
        "Create some histogram bins in x and y\n\n"
      ]
    },
    {
      "cell_type": "code",
      "execution_count": null,
      "metadata": {
        "collapsed": false
      },
      "outputs": [],
      "source": [
        "x = StatArray(np.linspace(-4.0, 4.0, 100), 'Variable 1')\ny = StatArray(np.linspace(-4.0, 4.0, 105), 'Variable 2')\n\nmesh = RectilinearMesh2D(x_edges=x, y_edges=y)"
      ]
    },
    {
      "cell_type": "markdown",
      "metadata": {},
      "source": [
        "Instantiate\n\n"
      ]
    },
    {
      "cell_type": "code",
      "execution_count": null,
      "metadata": {
        "collapsed": false
      },
      "outputs": [],
      "source": [
        "H = Histogram(mesh)"
      ]
    },
    {
      "cell_type": "markdown",
      "metadata": {},
      "source": [
        "Generate some random numbers\n\n"
      ]
    },
    {
      "cell_type": "code",
      "execution_count": null,
      "metadata": {
        "collapsed": false
      },
      "outputs": [],
      "source": [
        "a = np.random.randn(1000000)\nb = np.random.randn(1000000)"
      ]
    },
    {
      "cell_type": "markdown",
      "metadata": {},
      "source": [
        "Update the histogram counts\n\n"
      ]
    },
    {
      "cell_type": "code",
      "execution_count": null,
      "metadata": {
        "collapsed": false
      },
      "outputs": [],
      "source": [
        "H.update(a, b)"
      ]
    },
    {
      "cell_type": "code",
      "execution_count": null,
      "metadata": {
        "collapsed": false
      },
      "outputs": [],
      "source": [
        "plt.figure()\nplt.subplot(131)\nplt.title(\"2D Histogram\")\n_ = H.plot(cmap='gray_r')\nplt.subplot(132)\nH.pdf.plot(cmap='gray_r')\nplt.subplot(133)\nH.pmf.plot(cmap='gray_r')\n\n\nplt.figure()\nplt.subplot(131)\nH.cdf(axis=0).plot()\nplt.subplot(132)\nH.cdf(axis=1).plot()\nplt.subplot(133)\nH.cdf().plot()"
      ]
    },
    {
      "cell_type": "markdown",
      "metadata": {},
      "source": [
        "We can overlay the histogram with its credible intervals\n\n"
      ]
    },
    {
      "cell_type": "code",
      "execution_count": null,
      "metadata": {
        "collapsed": false
      },
      "outputs": [],
      "source": [
        "plt.figure()\nplt.title(\"90% credible intervals overlain\")\nH.pcolor(cmap='gray_r')\nH.plotCredibleIntervals(axis=0, percent=95.0)\n_ = H.plotCredibleIntervals(axis=1, percent=95.0)"
      ]
    },
    {
      "cell_type": "markdown",
      "metadata": {},
      "source": [
        "Generate marginal histograms along an axis\n\n"
      ]
    },
    {
      "cell_type": "code",
      "execution_count": null,
      "metadata": {
        "collapsed": false
      },
      "outputs": [],
      "source": [
        "h1 = H.marginalize(axis=0)\nh2 = H.marginalize(axis=1)"
      ]
    },
    {
      "cell_type": "markdown",
      "metadata": {},
      "source": [
        "Note that the names of the variables are automatically displayed\n\n"
      ]
    },
    {
      "cell_type": "code",
      "execution_count": null,
      "metadata": {
        "collapsed": false
      },
      "outputs": [],
      "source": [
        "plt.figure()\nplt.suptitle(\"Marginals along each axis\")\nplt.subplot(121)\nh1.plot()\nplt.subplot(122)\n_ = h2.plot()"
      ]
    },
    {
      "cell_type": "markdown",
      "metadata": {},
      "source": [
        "Create a combination plot with marginal histograms.\nsphinx_gallery_thumbnail_number = 3\n\n"
      ]
    },
    {
      "cell_type": "code",
      "execution_count": null,
      "metadata": {
        "collapsed": false
      },
      "outputs": [],
      "source": [
        "plt.figure()\ngs = gridspec.GridSpec(5, 5)\ngs.update(wspace=0.3, hspace=0.3)\nax = [plt.subplot(gs[1:, :4])]\nH.pcolor(colorbar = False)\n\nax.append(plt.subplot(gs[:1, :4]))\nh = H.marginalize(axis=0).plot()\nplt.xlabel(''); plt.ylabel('')\nplt.xticks([]); plt.yticks([])\nax[-1].spines[\"left\"].set_visible(False)\n\nax.append(plt.subplot(gs[1:, 4:]))\nh = H.marginalize(axis=1).plot(transpose=True)\nplt.ylabel(''); plt.xlabel('')\nplt.yticks([]); plt.xticks([])\nax[-1].spines[\"bottom\"].set_visible(False)"
      ]
    },
    {
      "cell_type": "markdown",
      "metadata": {},
      "source": [
        "Take the mean or median estimates from the histogram\n\n"
      ]
    },
    {
      "cell_type": "code",
      "execution_count": null,
      "metadata": {
        "collapsed": false
      },
      "outputs": [],
      "source": [
        "mean = H.mean()\nmedian = H.median()"
      ]
    },
    {
      "cell_type": "code",
      "execution_count": null,
      "metadata": {
        "collapsed": false
      },
      "outputs": [],
      "source": [
        "plt.figure(figsize=(9.5, 5))\nplt.suptitle(\"Mean, median, and credible interval overlain\")\nax = plt.subplot(121)\nH.pcolor(cmap='gray_r', colorbar=False)\nH.plotCredibleIntervals(axis=0)\nH.plotMedian(axis=0, color='g')\nH.plotMean(axis=0, color='y')\nplt.legend()\n\nplt.subplot(122, sharex=ax, sharey=ax)\nH.pcolor(cmap='gray_r', colorbar=False)\nH.plotCredibleIntervals(axis=1)\nH.plotMedian(axis=1, color='g')\nH.plotMean(axis=1, color='y')\nplt.legend()"
      ]
    },
    {
      "cell_type": "markdown",
      "metadata": {},
      "source": [
        "Get the range between credible intervals\n\n"
      ]
    },
    {
      "cell_type": "code",
      "execution_count": null,
      "metadata": {
        "collapsed": false
      },
      "outputs": [],
      "source": [
        "H.credible_range(percent=95.0)"
      ]
    },
    {
      "cell_type": "markdown",
      "metadata": {},
      "source": [
        "We can map the credible range to an opacity or transparency\n\n"
      ]
    },
    {
      "cell_type": "code",
      "execution_count": null,
      "metadata": {
        "collapsed": false
      },
      "outputs": [],
      "source": [
        "H.opacity()\nH.transparency()\n\n# H.animate(0, 'test.mp4')\n\nimport h5py\nwith h5py.File('h2d.h5', 'w') as f:\n    H.toHdf(f, 'h2d')\n\nwith h5py.File('h2d.h5', 'r') as f:\n    H1 = Histogram.fromHdf(f['h2d'])\n\nplt.close('all')\n\nx = StatArray(5.0 + np.linspace(-4.0, 4.0, 100), 'Variable 1')\ny = StatArray(10.0 + np.linspace(-4.0, 4.0, 105), 'Variable 2')\n\nmesh = RectilinearMesh2D(x_edges=x, x_relative_to=5.0, y_edges=y, y_relative_to=10.0)"
      ]
    },
    {
      "cell_type": "markdown",
      "metadata": {},
      "source": [
        "Instantiate\n\n"
      ]
    },
    {
      "cell_type": "code",
      "execution_count": null,
      "metadata": {
        "collapsed": false
      },
      "outputs": [],
      "source": [
        "H = Histogram(mesh)"
      ]
    },
    {
      "cell_type": "markdown",
      "metadata": {},
      "source": [
        "Generate some random numbers\n\n"
      ]
    },
    {
      "cell_type": "code",
      "execution_count": null,
      "metadata": {
        "collapsed": false
      },
      "outputs": [],
      "source": [
        "a = np.random.randn(1000000) + 5.0\nb = np.random.randn(1000000) + 10.0"
      ]
    },
    {
      "cell_type": "markdown",
      "metadata": {},
      "source": [
        "Update the histogram counts\n\n"
      ]
    },
    {
      "cell_type": "code",
      "execution_count": null,
      "metadata": {
        "collapsed": false
      },
      "outputs": [],
      "source": [
        "H.update(a, b)"
      ]
    },
    {
      "cell_type": "code",
      "execution_count": null,
      "metadata": {
        "collapsed": false
      },
      "outputs": [],
      "source": [
        "plt.figure()\nplt.subplot(131)\nplt.title(\"2D Histogram\")\n_ = H.plot(cmap='gray_r')\nplt.subplot(132)\nH.pdf.plot(cmap='gray_r')\nplt.subplot(133)\nH.pmf.plot(cmap='gray_r')\n\nplt.figure()\nplt.subplot(131)\nH.cdf(axis=0).plot()\nplt.subplot(132)\nH.cdf(axis=1).plot()\nplt.subplot(133)\nH.cdf().plot()"
      ]
    },
    {
      "cell_type": "markdown",
      "metadata": {},
      "source": [
        "We can overlay the histogram with its credible intervals\n\n"
      ]
    },
    {
      "cell_type": "code",
      "execution_count": null,
      "metadata": {
        "collapsed": false
      },
      "outputs": [],
      "source": [
        "plt.figure()\nplt.title(\"90% credible intervals overlain\")\nH.pcolor(cmap='gray_r')\nH.plotCredibleIntervals(axis=0, percent=95.0)\n_ = H.plotCredibleIntervals(axis=1, percent=95.0)\n\n# Generate marginal histograms along an axis\nh1 = H.marginalize(axis=0)\nh2 = H.marginalize(axis=1)"
      ]
    },
    {
      "cell_type": "markdown",
      "metadata": {},
      "source": [
        "Note that the names of the variables are automatically displayed\n\n"
      ]
    },
    {
      "cell_type": "code",
      "execution_count": null,
      "metadata": {
        "collapsed": false
      },
      "outputs": [],
      "source": [
        "plt.figure()\nplt.suptitle(\"Marginals along each axis\")\nplt.subplot(121)\nh1.plot()\nplt.subplot(122)\n_ = h2.plot()"
      ]
    },
    {
      "cell_type": "markdown",
      "metadata": {},
      "source": [
        "Create a combination plot with marginal histograms.\nsphinx_gallery_thumbnail_number = 3\n\n"
      ]
    },
    {
      "cell_type": "code",
      "execution_count": null,
      "metadata": {
        "collapsed": false
      },
      "outputs": [],
      "source": [
        "plt.figure()\ngs = gridspec.GridSpec(5, 5)\ngs.update(wspace=0.3, hspace=0.3)\nax = [plt.subplot(gs[1:, :4])]\nH.pcolor(colorbar = False)\n\nax.append(plt.subplot(gs[:1, :4]))\nh = H.marginalize(axis=0).plot()\nplt.xlabel(''); plt.ylabel('')\nplt.xticks([]); plt.yticks([])\nax[-1].spines[\"left\"].set_visible(False)\n\nax.append(plt.subplot(gs[1:, 4:]))\nh = H.marginalize(axis=1).plot(transpose=True)\nplt.ylabel(''); plt.xlabel('')\nplt.yticks([]); plt.xticks([])\nax[-1].spines[\"bottom\"].set_visible(False)"
      ]
    },
    {
      "cell_type": "markdown",
      "metadata": {},
      "source": [
        "Take the mean or median estimates from the histogram\n\n"
      ]
    },
    {
      "cell_type": "code",
      "execution_count": null,
      "metadata": {
        "collapsed": false
      },
      "outputs": [],
      "source": [
        "mean = H.mean()\nmedian = H.median()"
      ]
    },
    {
      "cell_type": "code",
      "execution_count": null,
      "metadata": {
        "collapsed": false
      },
      "outputs": [],
      "source": [
        "plt.figure(figsize=(9.5, 5))\nplt.suptitle(\"Mean, median, and credible interval overlain\")\nax = plt.subplot(121)\nH.pcolor(cmap='gray_r', colorbar=False)\nH.plotCredibleIntervals(axis=0)\nH.plotMedian(axis=0, color='g')\nH.plotMean(axis=0, color='y')\nplt.legend()\n\nplt.subplot(122, sharex=ax, sharey=ax)\nH.pcolor(cmap='gray_r', colorbar=False)\nH.plotCredibleIntervals(axis=1)\nH.plotMedian(axis=1, color='g')\nH.plotMean(axis=1, color='y')\nplt.legend()"
      ]
    },
    {
      "cell_type": "markdown",
      "metadata": {},
      "source": [
        "Get the range between credible intervals\n\n"
      ]
    },
    {
      "cell_type": "code",
      "execution_count": null,
      "metadata": {
        "collapsed": false
      },
      "outputs": [],
      "source": [
        "H.credible_range(percent=95.0)"
      ]
    },
    {
      "cell_type": "markdown",
      "metadata": {},
      "source": [
        "We can map the credible range to an opacity or transparency\n\n"
      ]
    },
    {
      "cell_type": "code",
      "execution_count": null,
      "metadata": {
        "collapsed": false
      },
      "outputs": [],
      "source": [
        "H.opacity()\nH.transparency()\n\n# # H.animate(0, 'test.mp4')\n\nwith h5py.File('h2d.h5', 'w') as f:\n    H.toHdf(f, 'h2d')\n\nwith h5py.File('h2d.h5', 'r') as f:\n    H1 = Histogram.fromHdf(f['h2d'])\n\nplt.figure(figsize=(9.5, 5))\nplt.suptitle(\"Mean, median, and credible interval overlain\")\nax = plt.subplot(121)\nH1.pcolor(cmap='gray_r', colorbar=False)\nH1.plotCredibleIntervals(axis=0)\nH1.plotMedian(axis=0, color='g')\nH1.plotMean(axis=0, color='y')\nplt.legend()\n\nplt.subplot(122, sharex=ax, sharey=ax)\nH1.pcolor(cmap='gray_r', colorbar=False)\nH1.plotCredibleIntervals(axis=1)\nH1.plotMedian(axis=1, color='g')\nH1.plotMean(axis=1, color='y')\nplt.legend()\n\nwith h5py.File('h2d.h5', 'w') as f:\n    H.createHdf(f, 'h2d', add_axis=StatArray(np.arange(3.0), name='Easting', units=\"m\"))\n    for i in range(3):\n        H.writeHdf(f, 'h2d', index=i)\n\nwith h5py.File('h2d.h5', 'r') as f:\n    H1 = Histogram.fromHdf(f['h2d'], index=0)\n\nplt.figure(figsize=(9.5, 5))\nplt.suptitle(\"Mean, median, and credible interval overlain\")\nax = plt.subplot(121)\nH1.pcolor(cmap='gray_r', colorbar=False)\nH1.plotCredibleIntervals(axis=0)\nH1.plotMedian(axis=0, color='g')\nH1.plotMean(axis=0, color='y')\nplt.legend()\n\nplt.subplot(122, sharex=ax, sharey=ax)\nH1.pcolor(cmap='gray_r', colorbar=False)\nH1.plotCredibleIntervals(axis=1)\nH1.plotMedian(axis=1, color='g')\nH1.plotMean(axis=1, color='y')\nplt.legend()\n\nwith h5py.File('h2d.h5', 'r') as f:\n    H1 = Histogram.fromHdf(f['h2d'])\n\nH1.pyvista_mesh().save('h3d_read.vtk')\n\nplt.show()"
      ]
    }
  ],
  "metadata": {
    "kernelspec": {
      "display_name": "Python 3",
      "language": "python",
      "name": "python3"
    },
    "language_info": {
      "codemirror_mode": {
        "name": "ipython",
        "version": 3
      },
      "file_extension": ".py",
      "mimetype": "text/x-python",
      "name": "python",
      "nbconvert_exporter": "python",
      "pygments_lexer": "ipython3",
      "version": "3.12.1"
    }
  },
  "nbformat": 4,
  "nbformat_minor": 0
}