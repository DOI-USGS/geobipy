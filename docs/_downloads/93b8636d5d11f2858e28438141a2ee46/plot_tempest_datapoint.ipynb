{
  "cells": [
    {
      "cell_type": "code",
      "execution_count": null,
      "metadata": {
        "collapsed": false
      },
      "outputs": [],
      "source": [
        "%matplotlib inline"
      ]
    },
    {
      "cell_type": "markdown",
      "metadata": {},
      "source": [
        "\n# Tempest Datapoint Class\n"
      ]
    },
    {
      "cell_type": "markdown",
      "metadata": {},
      "source": [
        "Credits:\nWe would like to thank Ross Brodie at Geoscience Australia for his airborne time domain forward modeller\nhttps://github.com/GeoscienceAustralia/ga-aem\n\nFor ground-based time domain data, we are using Dieter Werthmuller's python package Empymod\nhttps://empymod.github.io/\n\nThanks to Dieter for his help getting Empymod ready for incorporation into GeoBIPy\n\n"
      ]
    },
    {
      "cell_type": "code",
      "execution_count": null,
      "metadata": {
        "collapsed": false
      },
      "outputs": [],
      "source": [
        "from os.path import join\nimport numpy as np\nimport h5py\nimport matplotlib.pyplot as plt\nfrom geobipy import TempestData\n# from geobipy import TemDataPoint\nfrom geobipy import RectilinearMesh1D\nfrom geobipy import Model\nfrom geobipy import StatArray\nfrom geobipy import Distribution\nfrom geobipy import get_prng\n\ndataFolder = \"..//..//supplementary//data//\"\n# dataFolder = \"source//examples//supplementary//Data\"\n\n# Obtaining a tempest datapoint from a dataset\n# ++++++++++++++++++++++++++++++++++++++++++++\n# More often than not, our observed data is stored in a file on disk.\n# We can read in a dataset and pull datapoints from it.\n#\n# For more information about the time domain data set, see :ref:`Time domain dataset`\n\n# The data file name\ndataFile = dataFolder + 'tempest_saline_clay.csv'\n# The EM system file name\nsystemFile = dataFolder + 'Tempest.stm'\n\n# Prepare the dataset so that we can read a point at a time.\nDataset = TempestData._initialize_sequential_reading(dataFile, systemFile)\n# Get a datapoint from the file.\ntdp = Dataset._read_record(0)\n\nplt.figure()\ntdp.plot()\n\nprng = get_prng(seed=146100583096709124601953385843316024947)"
      ]
    },
    {
      "cell_type": "markdown",
      "metadata": {},
      "source": [
        "## Using a tempest domain datapoint\n\n"
      ]
    },
    {
      "cell_type": "markdown",
      "metadata": {},
      "source": [
        "We can define a 1D layered earth model, and use it to predict some data\n\n"
      ]
    },
    {
      "cell_type": "code",
      "execution_count": null,
      "metadata": {
        "collapsed": false
      },
      "outputs": [],
      "source": [
        "par = StatArray(np.r_[0.01, 0.1, 1.], \"Conductivity\", \"$\\frac{S}{m}$\")\nmod = Model(mesh=RectilinearMesh1D(edges=np.r_[0.0, 50.0, 75.0, np.inf]), values=par)\n\npar = StatArray(np.logspace(-3, 3, 30), \"Conductivity\", \"$\\frac{S}{m}$\")\ne = np.linspace(0, 350, 31); e[-1] = np.inf\nmod = Model(mesh=RectilinearMesh1D(edges=e), values=par)"
      ]
    },
    {
      "cell_type": "markdown",
      "metadata": {},
      "source": [
        "Forward model the data\n\n"
      ]
    },
    {
      "cell_type": "code",
      "execution_count": null,
      "metadata": {
        "collapsed": false
      },
      "outputs": [],
      "source": [
        "tdp.forward(mod)\n\nprint('primary', tdp.primary_field)\nprint('sx', tdp.secondary_field[:15])\nprint('sz', tdp.secondary_field[15:])\n\n# #%%\n# plt.figure()\n# plt.subplot(121)\n# _ = mod.pcolor(transpose=True)\n# plt.subplot(122)\n# _ = tdp.plot()\n# _ = tdp.plot_predicted()\n# plt.tight_layout()\n# plt.suptitle('Model and response')\n\n# #%%\n# # plt.figure()\n# # tdp.plotDataResidual(xscale='log')\n# # plt.title('data residual')\n\n# #%%\n# # Compute the sensitivity matrix for a given model\nJ = tdp.sensitivity(mod)\n# plt.figure()\n# _ = np.abs(J).pcolor(equalize=True, log=10, flipY=True)\n\nprint('J', J)\n# print('J shape', J.shape)\n# print('sx 0', J[:16, 0])\n\ntdp.fm_dlogc(mod)\n\nprint('new primary', tdp.primary_field)\nprint('sx', tdp.secondary_field[:15])\nprint('sz', tdp.secondary_field[15:])\n\nprint('new J', tdp.sensitivity_matrix)"
      ]
    },
    {
      "cell_type": "markdown",
      "metadata": {},
      "source": [
        "## Attaching statistical descriptors to the tempest datapoint\n\n"
      ]
    },
    {
      "cell_type": "code",
      "execution_count": null,
      "metadata": {
        "collapsed": false
      },
      "outputs": [],
      "source": [
        "from numpy.random import Generator\nfrom numpy.random import PCG64DXSM\ngenerator = PCG64DXSM(seed=0)\nprng = Generator(generator)\n\n# Set relative errors for the primary fields, and secondary fields.\ntdp.relative_error = np.r_[0.001, 0.001]\n\n# Set the additive errors for\ntdp.additive_error = np.hstack([[0.011474, 0.012810, 0.008507, 0.005154, 0.004742, 0.004477, 0.004168, 0.003539, 0.003352, 0.003213, 0.003161, 0.003122, 0.002587, 0.002038, 0.002201],\n                                [0.007383, 0.005693, 0.005178, 0.003659, 0.003426, 0.003046, 0.003095, 0.003247, 0.002775, 0.002627, 0.002460, 0.002178, 0.001754, 0.001405, 0.001283]])\n# Define a multivariate log normal distribution as the prior on the predicted data.\ntdp.predictedData.prior = Distribution('MvLogNormal', tdp.data[tdp.active], tdp.std[tdp.active]**2.0, prng=prng)"
      ]
    },
    {
      "cell_type": "markdown",
      "metadata": {},
      "source": [
        "This allows us to evaluate the likelihood of the predicted data\n\n"
      ]
    },
    {
      "cell_type": "code",
      "execution_count": null,
      "metadata": {
        "collapsed": false
      },
      "outputs": [],
      "source": [
        "print(tdp.likelihood(log=True))\n# Or the misfit\nprint(tdp.data_misfit())"
      ]
    },
    {
      "cell_type": "markdown",
      "metadata": {},
      "source": [
        "Plot the misfits for a range of half space conductivities\n\n"
      ]
    },
    {
      "cell_type": "code",
      "execution_count": null,
      "metadata": {
        "collapsed": false
      },
      "outputs": [],
      "source": [
        "plt.figure()\nplt.subplot(1, 2, 1)\n_ = tdp.plot_halfspace_responses(-6.0, 4.0, 200)\nplt.title(\"Halfspace responses\")"
      ]
    },
    {
      "cell_type": "markdown",
      "metadata": {},
      "source": [
        "We can perform a quick search for the best fitting half space\n\n"
      ]
    },
    {
      "cell_type": "code",
      "execution_count": null,
      "metadata": {
        "collapsed": false
      },
      "outputs": [],
      "source": [
        "halfspace = tdp.find_best_halfspace()\nprint('Best half space conductivity is {} $S/m$'.format(halfspace.values))\nplt.subplot(1, 2, 2)\n_ = tdp.plot()\n_ = tdp.plot_predicted()\n\nplt.figure()\ntdp.plot_secondary_field()\ntdp.plot_predicted_secondary_field()\n\n# #%%\n# # We can attach priors to the height of the datapoint,\n# # the relative error multiplier, and the additive error noise floor\n\n# Define the distributions used as priors.\nrelative_prior = Distribution('Uniform', min=np.r_[0.01, 0.01], max=np.r_[0.5, 0.5], prng=prng)\nreceiver_x_prior = Distribution('Uniform', min=np.float64(tdp.receiver.x) - 1.0, max=np.float64(tdp.receiver.x) + 1.0, prng=prng)\nreceiver_z_prior = Distribution('Uniform', min=np.float64(tdp.receiver.z) - 1.0, max=np.float64(tdp.receiver.z) + 1.0, prng=prng)\nreceiver_pitch_prior = Distribution('Uniform', min=tdp.receiver.pitch - 5.0, max=tdp.receiver.pitch + 5.0, prng=prng)\ntdp.set_priors(relative_error_prior=relative_prior, receiver_x_prior=receiver_x_prior, receiver_z_prior=receiver_z_prior, receiver_pitch_prior=receiver_pitch_prior, prng=prng)"
      ]
    },
    {
      "cell_type": "markdown",
      "metadata": {},
      "source": [
        "In order to perturb our solvable parameters, we need to attach proposal distributions\n\n"
      ]
    },
    {
      "cell_type": "code",
      "execution_count": null,
      "metadata": {
        "collapsed": false
      },
      "outputs": [],
      "source": [
        "relative_proposal = Distribution('MvNormal', mean=tdp.relative_error, variance=2.5e-4, prng=prng)\nreceiver_x_proposal = Distribution('Normal', mean=tdp.receiver.x, variance = 0.01, prng=prng)\nreceiver_z_proposal = Distribution('Normal', mean=tdp.receiver.z, variance = 0.01, prng=prng)\nreceiver_pitch_proposal = Distribution('Normal', mean=tdp.receiver.pitch, variance = 0.01, prng=prng)\ntdp.set_proposals(relative_error_proposal=relative_proposal,\n                  receiver_x_proposal=receiver_x_proposal,\n                  receiver_z_proposal=receiver_z_proposal,\n                  receiver_pitch_proposal=receiver_pitch_proposal,\n                  solve_additive_error=True, additive_error_proposal_variance=1e-4, prng=prng)"
      ]
    },
    {
      "cell_type": "markdown",
      "metadata": {},
      "source": [
        "With priors set we can auto generate the posteriors\n\n"
      ]
    },
    {
      "cell_type": "code",
      "execution_count": null,
      "metadata": {
        "collapsed": false
      },
      "outputs": [],
      "source": [
        "tdp.set_posteriors()"
      ]
    },
    {
      "cell_type": "markdown",
      "metadata": {},
      "source": [
        "Perturb the datapoint and record the perturbations\nNote we are not using the priors to accept or reject perturbations.\n\n"
      ]
    },
    {
      "cell_type": "code",
      "execution_count": null,
      "metadata": {
        "collapsed": false
      },
      "outputs": [],
      "source": [
        "for i in range(10):\n    tdp.perturb()\n    tdp.update_posteriors()\n\nplt.show()"
      ]
    }
  ],
  "metadata": {
    "kernelspec": {
      "display_name": "Python 3",
      "language": "python",
      "name": "python3"
    },
    "language_info": {
      "codemirror_mode": {
        "name": "ipython",
        "version": 3
      },
      "file_extension": ".py",
      "mimetype": "text/x-python",
      "name": "python",
      "nbconvert_exporter": "python",
      "pygments_lexer": "ipython3",
      "version": "3.12.6"
    }
  },
  "nbformat": 4,
  "nbformat_minor": 0
}