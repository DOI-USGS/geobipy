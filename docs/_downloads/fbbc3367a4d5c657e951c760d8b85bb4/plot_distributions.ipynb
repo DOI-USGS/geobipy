{
  "cells": [
    {
      "cell_type": "code",
      "execution_count": null,
      "metadata": {
        "collapsed": false
      },
      "outputs": [],
      "source": [
        "%matplotlib inline"
      ]
    },
    {
      "cell_type": "markdown",
      "metadata": {},
      "source": [
        "\n# Distribution Class\n\nHandles the initialization of different statistical distribution\n"
      ]
    },
    {
      "cell_type": "code",
      "execution_count": null,
      "metadata": {
        "collapsed": false
      },
      "outputs": [],
      "source": [
        "from geobipy import Distribution\nfrom geobipy import plotting as cP\nimport matplotlib.pyplot as plt\nimport numpy as np\n\nfrom numpy.random import Generator\nfrom numpy.random import PCG64DXSM\ngenerator = PCG64DXSM(seed=0)\nprng = Generator(generator)"
      ]
    },
    {
      "cell_type": "markdown",
      "metadata": {},
      "source": [
        "# Univariate Normal Distribution\n\n"
      ]
    },
    {
      "cell_type": "code",
      "execution_count": null,
      "metadata": {
        "collapsed": false
      },
      "outputs": [],
      "source": [
        "D = Distribution('Normal', 0.0, 1.0, prng=prng)\n\n# Get the bins of the Distribution from +- 4 standard deviations of the mean\nbins = D.bins()\n\n# Grab random samples from the distribution\nD.rng(10)\n\n# We can then get the Probability Density Function for those bins\npdf = D.probability(bins, log=False)\n\n# And we can plot that PDF\nplt.figure()\nplt.plot(bins, pdf)"
      ]
    },
    {
      "cell_type": "markdown",
      "metadata": {},
      "source": [
        "# Multivariate Normal Distribution\n\n"
      ]
    },
    {
      "cell_type": "code",
      "execution_count": null,
      "metadata": {
        "collapsed": false
      },
      "outputs": [],
      "source": [
        "D = Distribution('MvNormal',[0.0,1.0,2.0],[1.0,1.0,1.0], prng=prng)\nD.rng()"
      ]
    },
    {
      "cell_type": "markdown",
      "metadata": {},
      "source": [
        "Uniform Distribution\n\n"
      ]
    },
    {
      "cell_type": "code",
      "execution_count": null,
      "metadata": {
        "collapsed": false
      },
      "outputs": [],
      "source": [
        "D = Distribution('Uniform', 0.0, 1.0, prng=prng)\nD.bins()"
      ]
    }
  ],
  "metadata": {
    "kernelspec": {
      "display_name": "Python 3",
      "language": "python",
      "name": "python3"
    },
    "language_info": {
      "codemirror_mode": {
        "name": "ipython",
        "version": 3
      },
      "file_extension": ".py",
      "mimetype": "text/x-python",
      "name": "python",
      "nbconvert_exporter": "python",
      "pygments_lexer": "ipython3",
      "version": "3.12.3"
    }
  },
  "nbformat": 4,
  "nbformat_minor": 0
}