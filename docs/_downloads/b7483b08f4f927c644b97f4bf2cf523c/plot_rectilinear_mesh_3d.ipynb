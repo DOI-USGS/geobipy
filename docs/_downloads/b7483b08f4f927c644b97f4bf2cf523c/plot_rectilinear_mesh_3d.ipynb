{
  "cells": [
    {
      "cell_type": "code",
      "execution_count": null,
      "metadata": {
        "collapsed": false
      },
      "outputs": [],
      "source": [
        "%matplotlib inline"
      ]
    },
    {
      "cell_type": "markdown",
      "metadata": {},
      "source": [
        "\n# 3D Rectilinear Mesh\nThis 3D rectilinear mesh defines a grid with straight cell boundaries.\n"
      ]
    },
    {
      "cell_type": "code",
      "execution_count": null,
      "metadata": {
        "collapsed": false
      },
      "outputs": [],
      "source": [
        "from geobipy import StatArray\nfrom geobipy import RectilinearMesh3D\nimport matplotlib.pyplot as plt\nimport numpy as np\nimport h5py"
      ]
    },
    {
      "cell_type": "markdown",
      "metadata": {},
      "source": [
        "Specify some cell centres in x and y\n\n"
      ]
    },
    {
      "cell_type": "code",
      "execution_count": null,
      "metadata": {
        "collapsed": false
      },
      "outputs": [],
      "source": [
        "x = StatArray(np.arange(10.0), 'Easting', 'm')\ny = StatArray(np.arange(15.0), 'Northing', 'm')\nz = StatArray(np.arange(20.0), 'Depth', 'm')\n\nrm = RectilinearMesh3D(x_edges=x, y_edges=y, z_edges=z)\n\nrm1 = rm[:5, :5, :5]\nrm2 = rm[:, :, 5]\nrm3 = rm[:, 5, :]\nrm4 = rm[5, :, :]\n\nplt.figure()\nplt.subplot(231)\nrm2.plotGrid()\nplt.subplot(232)\nrm3.plotGrid()\nplt.subplot(233)\nrm4.plotGrid()"
      ]
    },
    {
      "cell_type": "code",
      "execution_count": null,
      "metadata": {
        "collapsed": false
      },
      "outputs": [],
      "source": [
        "rm2 = rm[:, 5, 5]\nrm3 = rm[5, :, 5]\nrm4 = rm[5, 5, :]\n\nplt.subplot(234)\nrm2.plotGrid()\nplt.subplot(235)\nrm3.plotGrid()\nplt.subplot(236)\nrm4.plotGrid()"
      ]
    },
    {
      "cell_type": "code",
      "execution_count": null,
      "metadata": {
        "collapsed": false
      },
      "outputs": [],
      "source": [
        "with h5py.File('rm3d.h5', 'w') as f:\n    rm.createHdf(f, 'test')\n    rm.writeHdf(f, 'test')\n\nwith h5py.File('rm3d.h5', 'r') as f:\n    rm2 = RectilinearMesh3D.fromHdf(f['test'])\n\nrm.pyvista_mesh().save('rm3d.vtk')\n\n\nxx, yy = np.meshgrid(rm.y.centres, rm.x.centres)\nz_re = StatArray(np.sin(np.sqrt(xx ** 2.0 + yy ** 2.0)), \"z_re\")\nrm = RectilinearMesh3D(x_edges=x, y_edges=y, z_edges=z, z_relative_to=z_re)\n\nrm1 = rm[:5, :5, :5]\nrm2 = rm[:, :, 5]\nrm3 = rm[:, 5, :]\nrm4 = rm[5, :, :]\n\nplt.figure()\nplt.subplot(231)\nrm2.plotGrid()\nplt.subplot(232)\nrm3.plotGrid()\nplt.subplot(233)\nrm4.plotGrid()"
      ]
    },
    {
      "cell_type": "markdown",
      "metadata": {},
      "source": [
        "We can plot the mesh in 3D!\n\n"
      ]
    },
    {
      "cell_type": "code",
      "execution_count": null,
      "metadata": {
        "collapsed": false
      },
      "outputs": [],
      "source": [
        "pv = rm.pyvista_plotter()"
      ]
    },
    {
      "cell_type": "markdown",
      "metadata": {},
      "source": [
        "We can plot the mesh in 3D!\n\n"
      ]
    },
    {
      "cell_type": "code",
      "execution_count": null,
      "metadata": {
        "collapsed": false
      },
      "outputs": [],
      "source": [
        "mesh = rm.pyvista_mesh().save('rm3d_re1.vtk')\n\n\nx_re = StatArray(np.sin(np.repeat(rm.y.centres[:, None], rm.z.nCells, 1)), \"x_re\")\n\nxx, yy = np.meshgrid(rm.y.centres, rm.x.centres)\nz_re = StatArray(np.sin(np.sqrt(xx ** 2.0 + yy ** 2.0)), \"z_re\")\nrm = RectilinearMesh3D(x_edges=x, x_relative_to=x_re, y_edges=y, z_edges=z, z_relative_to=z_re)\n\nrm1 = rm[:5, :5, :5]\nrm2 = rm[:, :, 5]\nrm3 = rm[:, 5, :]\nrm4 = rm[5, :, :]\n\nplt.figure()\nplt.subplot(231)\nrm2.plotGrid()\nplt.subplot(232)\nrm3.plotGrid()\nplt.subplot(233)\nrm4.plotGrid()"
      ]
    },
    {
      "cell_type": "markdown",
      "metadata": {},
      "source": [
        "We can plot the mesh in 3D!\n\n"
      ]
    },
    {
      "cell_type": "code",
      "execution_count": null,
      "metadata": {
        "collapsed": false
      },
      "outputs": [],
      "source": [
        "pv = rm.pyvista_plotter()"
      ]
    },
    {
      "cell_type": "markdown",
      "metadata": {},
      "source": [
        "We can plot the mesh in 3D!\n\n"
      ]
    },
    {
      "cell_type": "code",
      "execution_count": null,
      "metadata": {
        "collapsed": false
      },
      "outputs": [],
      "source": [
        "mesh = rm.pyvista_mesh().save('rm3d_re2.vtk')\n\n\nxx, yy = np.meshgrid(rm.z.centres, rm.y.centres)\nx_re = StatArray(np.sin(np.sqrt(xx ** 2.0 + yy ** 2.0)), \"x_re\")\n\nxx, yy = np.meshgrid(rm.z.centres, rm.x.centres)\ny_re = StatArray(np.sin(np.sqrt(xx ** 2.0 + yy ** 2.0)), \"y_re\")\n\nxx, yy = np.meshgrid(rm.y.centres, rm.x.centres)\nz_re = StatArray(np.sin(np.sqrt(xx ** 2.0 + yy ** 2.0)), \"z_re\")\nrm = RectilinearMesh3D(x_edges=x, x_relative_to=x_re, y_edges=y, y_relative_to=y_re, z_edges=z, z_relative_to=z_re)\n\nrm1 = rm[:5, :5, :5]\nrm2 = rm[:, :, 5]\nrm3 = rm[:, 5, :]\nrm4 = rm[5, :, :]\n\nplt.figure()\nplt.subplot(231)\nrm2.plotGrid()\nplt.subplot(232)\nrm3.plotGrid()\nplt.subplot(233)\nrm4.plotGrid()"
      ]
    },
    {
      "cell_type": "markdown",
      "metadata": {},
      "source": [
        "We can plot the mesh in 3D!\n\n"
      ]
    },
    {
      "cell_type": "code",
      "execution_count": null,
      "metadata": {
        "collapsed": false
      },
      "outputs": [],
      "source": [
        "pv = rm.pyvista_plotter()\npv.show()"
      ]
    },
    {
      "cell_type": "markdown",
      "metadata": {},
      "source": [
        "We can plot the mesh in 3D!\n\n"
      ]
    },
    {
      "cell_type": "code",
      "execution_count": null,
      "metadata": {
        "collapsed": false
      },
      "outputs": [],
      "source": [
        "mesh = rm.pyvista_mesh().save('rm3d_re3.vtk')\n\nwith h5py.File('rm3d.h5', 'w') as f:\n    rm.toHdf(f, 'test')\n\nwith h5py.File('rm3d.h5', 'r') as f:\n    rm2 = RectilinearMesh3D.fromHdf(f['test'])\n\nrm2.pyvista_mesh().save('rm3d_read.vtk')\n\nplt.show()"
      ]
    }
  ],
  "metadata": {
    "kernelspec": {
      "display_name": "Python 3",
      "language": "python",
      "name": "python3"
    },
    "language_info": {
      "codemirror_mode": {
        "name": "ipython",
        "version": 3
      },
      "file_extension": ".py",
      "mimetype": "text/x-python",
      "name": "python",
      "nbconvert_exporter": "python",
      "pygments_lexer": "ipython3",
      "version": "3.10.8"
    }
  },
  "nbformat": 4,
  "nbformat_minor": 0
}