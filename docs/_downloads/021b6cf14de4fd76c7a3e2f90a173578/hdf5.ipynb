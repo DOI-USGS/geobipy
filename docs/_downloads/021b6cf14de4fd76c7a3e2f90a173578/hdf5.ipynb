{
  "cells": [
    {
      "cell_type": "code",
      "execution_count": null,
      "metadata": {
        "collapsed": false
      },
      "outputs": [],
      "source": [
        "%matplotlib inline"
      ]
    },
    {
      "cell_type": "markdown",
      "metadata": {},
      "source": [
        "\n# Using HDF5 within GeoBIPy\n\nInference for large scale datasets in GeoBIPy is handled using MPI and distributed memory systems.\nA common bottleneck with large parallel algorithms is the input output of information to disk.\nWe use HDF5 to read and write data in order to leverage the parallel capabililties of the HDF5 API.\n\nEach object within GeoBIPy has a create_hdf, write_hdf, and read_hdf routine.\n"
      ]
    },
    {
      "cell_type": "code",
      "execution_count": null,
      "metadata": {
        "collapsed": false
      },
      "outputs": [],
      "source": [
        "import numpy as np\nimport h5py\nfrom geobipy import StatArray"
      ]
    },
    {
      "cell_type": "markdown",
      "metadata": {},
      "source": [
        "## StatArray\n\n"
      ]
    },
    {
      "cell_type": "code",
      "execution_count": null,
      "metadata": {
        "collapsed": false
      },
      "outputs": [],
      "source": [
        "# Instantiate a StatArray\nx = StatArray(np.arange(10.0), name = 'an Array', units = 'some units')\n\n# Write the StatArray to a HDF file.\nwith h5py.File(\"x.h5\", 'w') as f:\n    x.toHdf(f, \"x\")\n\n# Read the StatArray back in.\nwith h5py.File(\"x.h5\", 'r') as f:\n    y = StatArray.fromHdf(f, 'x')\n\nprint('x', x)\nprint('y', y)"
      ]
    },
    {
      "cell_type": "markdown",
      "metadata": {},
      "source": [
        "There are actually steps within the \"toHdf\" function.\nFirst, space is created within the HDF file and second, the data is written to that space\nThese functions are split because during the execution of a parallel enabled program,\nall the space within the HDF file needs to be allocated before we can write to the file\nusing multiple cores.\n\n"
      ]
    },
    {
      "cell_type": "code",
      "execution_count": null,
      "metadata": {
        "collapsed": false
      },
      "outputs": [],
      "source": [
        "# Write the StatArray to a HDF file.\nwith h5py.File(\"x.h5\", 'w') as f:\n    x.createHdf(f, \"x\")\n    x.writeHdf(f, \"x\")\n\n# Read the StatArray back in.\nwith h5py.File(\"x.h5\", 'r') as f:\n    y = StatArray.fromHdf(f, 'x')\n\nprint('x', x)\nprint('y', y)"
      ]
    },
    {
      "cell_type": "markdown",
      "metadata": {},
      "source": [
        "The create and write HDF methods also allow extra space to be allocated so that\nthe extra memory can be written later, perhaps by multiple cores.\nHere we specify space for 2 arrays, the memory is stored contiguously as a numpy array.\nWe then write to only the first index.\n\n"
      ]
    },
    {
      "cell_type": "code",
      "execution_count": null,
      "metadata": {
        "collapsed": false
      },
      "outputs": [],
      "source": [
        "# Write the StatArray to a HDF file.\nwith h5py.File(\"x.h5\", 'w') as f:\n    x.createHdf(f, \"x\", nRepeats=2)\n    x.writeHdf(f, \"x\", index=0)\n\n# Read the StatArray back in.\nwith h5py.File(\"x.h5\", 'r') as f:\n    y = StatArray.fromHdf(f, 'x', index=0)\n\nprint('x', x)\nprint('y', y)"
      ]
    },
    {
      "cell_type": "markdown",
      "metadata": {},
      "source": [
        "The duplication can also be a shape.\n\n"
      ]
    },
    {
      "cell_type": "code",
      "execution_count": null,
      "metadata": {
        "collapsed": false
      },
      "outputs": [],
      "source": [
        "# Write the StatArray to a HDF file.\nwith h5py.File(\"x.h5\", 'w') as f:\n    x.createHdf(f, \"x\", nRepeats=(2, 2))\n    x.writeHdf(f, \"x\", index=(0, 0))\n\n# Read the StatArray back in.\nwith h5py.File(\"x.h5\", 'r') as f:\n    y = StatArray.fromHdf(f, 'x', index=(0, 0))\n\nprint('x', x)\nprint('y', y)"
      ]
    },
    {
      "cell_type": "markdown",
      "metadata": {},
      "source": [
        "Similarly, we can duplicate a 2D array with an extra 2D duplication\n\n"
      ]
    },
    {
      "cell_type": "code",
      "execution_count": null,
      "metadata": {
        "collapsed": false
      },
      "outputs": [],
      "source": [
        "x = StatArray(np.random.randn(2, 2), name = 'an Array', units = 'some units')\n# Write the StatArray to a HDF file.\nwith h5py.File(\"x.h5\", 'w') as f:\n    x.createHdf(f, \"x\", nRepeats=(2, 2))\n    x.writeHdf(f, \"x\", index=(0, 0))\n\n# Read the StatArray back in.\nwith h5py.File(\"x.h5\", 'r') as f:\n    y = StatArray.fromHdf(f, 'x', index=(0, 0))\n\nprint('x', x)\nprint('y', y)"
      ]
    }
  ],
  "metadata": {
    "kernelspec": {
      "display_name": "Python 3",
      "language": "python",
      "name": "python3"
    },
    "language_info": {
      "codemirror_mode": {
        "name": "ipython",
        "version": 3
      },
      "file_extension": ".py",
      "mimetype": "text/x-python",
      "name": "python",
      "nbconvert_exporter": "python",
      "pygments_lexer": "ipython3",
      "version": "3.10.8"
    }
  },
  "nbformat": 4,
  "nbformat_minor": 0
}